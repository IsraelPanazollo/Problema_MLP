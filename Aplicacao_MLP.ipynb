{
  "nbformat": 4,
  "nbformat_minor": 0,
  "metadata": {
    "colab": {
      "provenance": [],
      "authorship_tag": "ABX9TyMA0sPxF4+f1yWxya7ZGtHV",
      "include_colab_link": true
    },
    "kernelspec": {
      "name": "python3",
      "display_name": "Python 3"
    },
    "language_info": {
      "name": "python"
    }
  },
  "cells": [
    {
      "cell_type": "markdown",
      "metadata": {
        "id": "view-in-github",
        "colab_type": "text"
      },
      "source": [
        "<a href=\"https://colab.research.google.com/github/IsraelPanazollo/Problema_MLP/blob/main/Aplicacao_MLP.ipynb\" target=\"_parent\"><img src=\"https://colab.research.google.com/assets/colab-badge.svg\" alt=\"Open In Colab\"/></a>"
      ]
    },
    {
      "cell_type": "markdown",
      "source": [
        "***\n",
        "# <font color=green size=6>APLICAÇÃO DE PERCEPTRON DE MÚLTIPLAS CAMADAS</font>\n",
        "***"
      ],
      "metadata": {
        "id": "JZZBo7Vz1gKK"
      }
    },
    {
      "cell_type": "markdown",
      "source": [
        "# Importação das bibliotecas"
      ],
      "metadata": {
        "id": "gz6RvZDp1oqs"
      }
    },
    {
      "cell_type": "code",
      "execution_count": 1,
      "metadata": {
        "id": "nZC8kVc_WSwm"
      },
      "outputs": [],
      "source": [
        "import pandas as pd\n",
        "import numpy as np\n",
        "import seaborn as sns\n",
        "import matplotlib.pyplot as plt\n",
        "import sklearn\n",
        "import tensorflow as tf\n",
        "from tensorflow import keras"
      ]
    },
    {
      "cell_type": "markdown",
      "source": [
        "## Verificação das versões"
      ],
      "metadata": {
        "id": "KpeZQmOK1uru"
      }
    },
    {
      "cell_type": "code",
      "source": [
        "print('Versão do pandas -> %s' % pd.__version__)\n",
        "print('Versão do numpy -> %s' % np.__version__)\n",
        "print('Versão do seaborn -> %s' % sns.__version__)\n",
        "print('Versão do sklearn -> %s' % sklearn.__version__)\n",
        "print('Versão do tensorflow -> %s' % tf.__version__)"
      ],
      "metadata": {
        "colab": {
          "base_uri": "https://localhost:8080/"
        },
        "id": "eGvBwgUI1s8K",
        "outputId": "d8c7d7dd-933a-4572-ca95-8f3f4deb37f7"
      },
      "execution_count": 2,
      "outputs": [
        {
          "output_type": "stream",
          "name": "stdout",
          "text": [
            "Versão do pandas -> 2.0.3\n",
            "Versão do numpy -> 1.25.2\n",
            "Versão do seaborn -> 0.13.1\n",
            "Versão do sklearn -> 1.2.2\n",
            "Versão do tensorflow -> 2.15.0\n"
          ]
        }
      ]
    },
    {
      "cell_type": "markdown",
      "source": [
        "# Exploração dos dados"
      ],
      "metadata": {
        "id": "7wc-1foz3x5B"
      }
    },
    {
      "cell_type": "markdown",
      "source": [
        "Os dados apresentados estão associados a presença de doenças cardícas, contendo 13 características relevantes para a avaliação e correlação com a doença. Os atributos são:\n",
        "\n",
        "* 'age': Idade\n",
        "* 'sex': Sexo, categórica\n",
        "* 'cp': Pericardite constritiva, categórica\n",
        "* 'trestbps': pressão arterial em repouso\n",
        "* 'chol': soro colesterol\n",
        "* 'fbs': açucar no sangue em jejum > 120 mg/dl, categórica\n",
        "* 'restecg': resultado eletrocardiográfico em repouso, categórica\n",
        "* 'thalach': frequência cardíaca máxima alcançada\n",
        "* 'exang': angina induzida por exercício, categórica\n",
        "* 'oldpeak': Depressão do segmento ST induzida por exercício em relação ao repouso\n",
        "* 'slope': Inclinação ST/frequência cardíaca, categórica\n",
        "* 'ca': número de vasos principais (0-3) coloridos por fluorosopia\n",
        "* 'thal': talassemia, categórica\n",
        "* 'num': diagnóstico de doença cardíaca\n",
        "\n",
        "A última categoria possui uma numeração de 0 a 4 para a presença de doença cardíaca, sendo 0 a ausência."
      ],
      "metadata": {
        "id": "glQyAL2C3zqo"
      }
    },
    {
      "cell_type": "code",
      "source": [
        "dados = pd.read_csv('dataset_heart_disease.csv')"
      ],
      "metadata": {
        "id": "mgAt2XIo1wts"
      },
      "execution_count": 3,
      "outputs": []
    },
    {
      "cell_type": "code",
      "source": [
        "dados.head()"
      ],
      "metadata": {
        "colab": {
          "base_uri": "https://localhost:8080/",
          "height": 206
        },
        "id": "HA0Negko2Ji_",
        "outputId": "aed447df-3c29-4448-ed84-33fca75ec0a1"
      },
      "execution_count": 4,
      "outputs": [
        {
          "output_type": "execute_result",
          "data": {
            "text/plain": [
              "   age  sex  cp  trestbps  chol  fbs  restecg  thalach  exang  oldpeak  slope  \\\n",
              "0   63    1   1       145   233    1        2      150      0      2.3      3   \n",
              "1   67    1   4       160   286    0        2      108      1      1.5      2   \n",
              "2   67    1   4       120   229    0        2      129      1      2.6      2   \n",
              "3   37    1   3       130   250    0        0      187      0      3.5      3   \n",
              "4   41    0   2       130   204    0        2      172      0      1.4      1   \n",
              "\n",
              "    ca  thal  num  \n",
              "0  0.0   6.0    0  \n",
              "1  3.0   3.0    2  \n",
              "2  2.0   7.0    1  \n",
              "3  0.0   3.0    0  \n",
              "4  0.0   3.0    0  "
            ],
            "text/html": [
              "\n",
              "  <div id=\"df-332a65e6-2494-40fb-9a41-3384f9d0e56b\" class=\"colab-df-container\">\n",
              "    <div>\n",
              "<style scoped>\n",
              "    .dataframe tbody tr th:only-of-type {\n",
              "        vertical-align: middle;\n",
              "    }\n",
              "\n",
              "    .dataframe tbody tr th {\n",
              "        vertical-align: top;\n",
              "    }\n",
              "\n",
              "    .dataframe thead th {\n",
              "        text-align: right;\n",
              "    }\n",
              "</style>\n",
              "<table border=\"1\" class=\"dataframe\">\n",
              "  <thead>\n",
              "    <tr style=\"text-align: right;\">\n",
              "      <th></th>\n",
              "      <th>age</th>\n",
              "      <th>sex</th>\n",
              "      <th>cp</th>\n",
              "      <th>trestbps</th>\n",
              "      <th>chol</th>\n",
              "      <th>fbs</th>\n",
              "      <th>restecg</th>\n",
              "      <th>thalach</th>\n",
              "      <th>exang</th>\n",
              "      <th>oldpeak</th>\n",
              "      <th>slope</th>\n",
              "      <th>ca</th>\n",
              "      <th>thal</th>\n",
              "      <th>num</th>\n",
              "    </tr>\n",
              "  </thead>\n",
              "  <tbody>\n",
              "    <tr>\n",
              "      <th>0</th>\n",
              "      <td>63</td>\n",
              "      <td>1</td>\n",
              "      <td>1</td>\n",
              "      <td>145</td>\n",
              "      <td>233</td>\n",
              "      <td>1</td>\n",
              "      <td>2</td>\n",
              "      <td>150</td>\n",
              "      <td>0</td>\n",
              "      <td>2.3</td>\n",
              "      <td>3</td>\n",
              "      <td>0.0</td>\n",
              "      <td>6.0</td>\n",
              "      <td>0</td>\n",
              "    </tr>\n",
              "    <tr>\n",
              "      <th>1</th>\n",
              "      <td>67</td>\n",
              "      <td>1</td>\n",
              "      <td>4</td>\n",
              "      <td>160</td>\n",
              "      <td>286</td>\n",
              "      <td>0</td>\n",
              "      <td>2</td>\n",
              "      <td>108</td>\n",
              "      <td>1</td>\n",
              "      <td>1.5</td>\n",
              "      <td>2</td>\n",
              "      <td>3.0</td>\n",
              "      <td>3.0</td>\n",
              "      <td>2</td>\n",
              "    </tr>\n",
              "    <tr>\n",
              "      <th>2</th>\n",
              "      <td>67</td>\n",
              "      <td>1</td>\n",
              "      <td>4</td>\n",
              "      <td>120</td>\n",
              "      <td>229</td>\n",
              "      <td>0</td>\n",
              "      <td>2</td>\n",
              "      <td>129</td>\n",
              "      <td>1</td>\n",
              "      <td>2.6</td>\n",
              "      <td>2</td>\n",
              "      <td>2.0</td>\n",
              "      <td>7.0</td>\n",
              "      <td>1</td>\n",
              "    </tr>\n",
              "    <tr>\n",
              "      <th>3</th>\n",
              "      <td>37</td>\n",
              "      <td>1</td>\n",
              "      <td>3</td>\n",
              "      <td>130</td>\n",
              "      <td>250</td>\n",
              "      <td>0</td>\n",
              "      <td>0</td>\n",
              "      <td>187</td>\n",
              "      <td>0</td>\n",
              "      <td>3.5</td>\n",
              "      <td>3</td>\n",
              "      <td>0.0</td>\n",
              "      <td>3.0</td>\n",
              "      <td>0</td>\n",
              "    </tr>\n",
              "    <tr>\n",
              "      <th>4</th>\n",
              "      <td>41</td>\n",
              "      <td>0</td>\n",
              "      <td>2</td>\n",
              "      <td>130</td>\n",
              "      <td>204</td>\n",
              "      <td>0</td>\n",
              "      <td>2</td>\n",
              "      <td>172</td>\n",
              "      <td>0</td>\n",
              "      <td>1.4</td>\n",
              "      <td>1</td>\n",
              "      <td>0.0</td>\n",
              "      <td>3.0</td>\n",
              "      <td>0</td>\n",
              "    </tr>\n",
              "  </tbody>\n",
              "</table>\n",
              "</div>\n",
              "    <div class=\"colab-df-buttons\">\n",
              "\n",
              "  <div class=\"colab-df-container\">\n",
              "    <button class=\"colab-df-convert\" onclick=\"convertToInteractive('df-332a65e6-2494-40fb-9a41-3384f9d0e56b')\"\n",
              "            title=\"Convert this dataframe to an interactive table.\"\n",
              "            style=\"display:none;\">\n",
              "\n",
              "  <svg xmlns=\"http://www.w3.org/2000/svg\" height=\"24px\" viewBox=\"0 -960 960 960\">\n",
              "    <path d=\"M120-120v-720h720v720H120Zm60-500h600v-160H180v160Zm220 220h160v-160H400v160Zm0 220h160v-160H400v160ZM180-400h160v-160H180v160Zm440 0h160v-160H620v160ZM180-180h160v-160H180v160Zm440 0h160v-160H620v160Z\"/>\n",
              "  </svg>\n",
              "    </button>\n",
              "\n",
              "  <style>\n",
              "    .colab-df-container {\n",
              "      display:flex;\n",
              "      gap: 12px;\n",
              "    }\n",
              "\n",
              "    .colab-df-convert {\n",
              "      background-color: #E8F0FE;\n",
              "      border: none;\n",
              "      border-radius: 50%;\n",
              "      cursor: pointer;\n",
              "      display: none;\n",
              "      fill: #1967D2;\n",
              "      height: 32px;\n",
              "      padding: 0 0 0 0;\n",
              "      width: 32px;\n",
              "    }\n",
              "\n",
              "    .colab-df-convert:hover {\n",
              "      background-color: #E2EBFA;\n",
              "      box-shadow: 0px 1px 2px rgba(60, 64, 67, 0.3), 0px 1px 3px 1px rgba(60, 64, 67, 0.15);\n",
              "      fill: #174EA6;\n",
              "    }\n",
              "\n",
              "    .colab-df-buttons div {\n",
              "      margin-bottom: 4px;\n",
              "    }\n",
              "\n",
              "    [theme=dark] .colab-df-convert {\n",
              "      background-color: #3B4455;\n",
              "      fill: #D2E3FC;\n",
              "    }\n",
              "\n",
              "    [theme=dark] .colab-df-convert:hover {\n",
              "      background-color: #434B5C;\n",
              "      box-shadow: 0px 1px 3px 1px rgba(0, 0, 0, 0.15);\n",
              "      filter: drop-shadow(0px 1px 2px rgba(0, 0, 0, 0.3));\n",
              "      fill: #FFFFFF;\n",
              "    }\n",
              "  </style>\n",
              "\n",
              "    <script>\n",
              "      const buttonEl =\n",
              "        document.querySelector('#df-332a65e6-2494-40fb-9a41-3384f9d0e56b button.colab-df-convert');\n",
              "      buttonEl.style.display =\n",
              "        google.colab.kernel.accessAllowed ? 'block' : 'none';\n",
              "\n",
              "      async function convertToInteractive(key) {\n",
              "        const element = document.querySelector('#df-332a65e6-2494-40fb-9a41-3384f9d0e56b');\n",
              "        const dataTable =\n",
              "          await google.colab.kernel.invokeFunction('convertToInteractive',\n",
              "                                                    [key], {});\n",
              "        if (!dataTable) return;\n",
              "\n",
              "        const docLinkHtml = 'Like what you see? Visit the ' +\n",
              "          '<a target=\"_blank\" href=https://colab.research.google.com/notebooks/data_table.ipynb>data table notebook</a>'\n",
              "          + ' to learn more about interactive tables.';\n",
              "        element.innerHTML = '';\n",
              "        dataTable['output_type'] = 'display_data';\n",
              "        await google.colab.output.renderOutput(dataTable, element);\n",
              "        const docLink = document.createElement('div');\n",
              "        docLink.innerHTML = docLinkHtml;\n",
              "        element.appendChild(docLink);\n",
              "      }\n",
              "    </script>\n",
              "  </div>\n",
              "\n",
              "\n",
              "<div id=\"df-7d91edda-04fd-4d11-8eaa-84e811a99091\">\n",
              "  <button class=\"colab-df-quickchart\" onclick=\"quickchart('df-7d91edda-04fd-4d11-8eaa-84e811a99091')\"\n",
              "            title=\"Suggest charts\"\n",
              "            style=\"display:none;\">\n",
              "\n",
              "<svg xmlns=\"http://www.w3.org/2000/svg\" height=\"24px\"viewBox=\"0 0 24 24\"\n",
              "     width=\"24px\">\n",
              "    <g>\n",
              "        <path d=\"M19 3H5c-1.1 0-2 .9-2 2v14c0 1.1.9 2 2 2h14c1.1 0 2-.9 2-2V5c0-1.1-.9-2-2-2zM9 17H7v-7h2v7zm4 0h-2V7h2v10zm4 0h-2v-4h2v4z\"/>\n",
              "    </g>\n",
              "</svg>\n",
              "  </button>\n",
              "\n",
              "<style>\n",
              "  .colab-df-quickchart {\n",
              "      --bg-color: #E8F0FE;\n",
              "      --fill-color: #1967D2;\n",
              "      --hover-bg-color: #E2EBFA;\n",
              "      --hover-fill-color: #174EA6;\n",
              "      --disabled-fill-color: #AAA;\n",
              "      --disabled-bg-color: #DDD;\n",
              "  }\n",
              "\n",
              "  [theme=dark] .colab-df-quickchart {\n",
              "      --bg-color: #3B4455;\n",
              "      --fill-color: #D2E3FC;\n",
              "      --hover-bg-color: #434B5C;\n",
              "      --hover-fill-color: #FFFFFF;\n",
              "      --disabled-bg-color: #3B4455;\n",
              "      --disabled-fill-color: #666;\n",
              "  }\n",
              "\n",
              "  .colab-df-quickchart {\n",
              "    background-color: var(--bg-color);\n",
              "    border: none;\n",
              "    border-radius: 50%;\n",
              "    cursor: pointer;\n",
              "    display: none;\n",
              "    fill: var(--fill-color);\n",
              "    height: 32px;\n",
              "    padding: 0;\n",
              "    width: 32px;\n",
              "  }\n",
              "\n",
              "  .colab-df-quickchart:hover {\n",
              "    background-color: var(--hover-bg-color);\n",
              "    box-shadow: 0 1px 2px rgba(60, 64, 67, 0.3), 0 1px 3px 1px rgba(60, 64, 67, 0.15);\n",
              "    fill: var(--button-hover-fill-color);\n",
              "  }\n",
              "\n",
              "  .colab-df-quickchart-complete:disabled,\n",
              "  .colab-df-quickchart-complete:disabled:hover {\n",
              "    background-color: var(--disabled-bg-color);\n",
              "    fill: var(--disabled-fill-color);\n",
              "    box-shadow: none;\n",
              "  }\n",
              "\n",
              "  .colab-df-spinner {\n",
              "    border: 2px solid var(--fill-color);\n",
              "    border-color: transparent;\n",
              "    border-bottom-color: var(--fill-color);\n",
              "    animation:\n",
              "      spin 1s steps(1) infinite;\n",
              "  }\n",
              "\n",
              "  @keyframes spin {\n",
              "    0% {\n",
              "      border-color: transparent;\n",
              "      border-bottom-color: var(--fill-color);\n",
              "      border-left-color: var(--fill-color);\n",
              "    }\n",
              "    20% {\n",
              "      border-color: transparent;\n",
              "      border-left-color: var(--fill-color);\n",
              "      border-top-color: var(--fill-color);\n",
              "    }\n",
              "    30% {\n",
              "      border-color: transparent;\n",
              "      border-left-color: var(--fill-color);\n",
              "      border-top-color: var(--fill-color);\n",
              "      border-right-color: var(--fill-color);\n",
              "    }\n",
              "    40% {\n",
              "      border-color: transparent;\n",
              "      border-right-color: var(--fill-color);\n",
              "      border-top-color: var(--fill-color);\n",
              "    }\n",
              "    60% {\n",
              "      border-color: transparent;\n",
              "      border-right-color: var(--fill-color);\n",
              "    }\n",
              "    80% {\n",
              "      border-color: transparent;\n",
              "      border-right-color: var(--fill-color);\n",
              "      border-bottom-color: var(--fill-color);\n",
              "    }\n",
              "    90% {\n",
              "      border-color: transparent;\n",
              "      border-bottom-color: var(--fill-color);\n",
              "    }\n",
              "  }\n",
              "</style>\n",
              "\n",
              "  <script>\n",
              "    async function quickchart(key) {\n",
              "      const quickchartButtonEl =\n",
              "        document.querySelector('#' + key + ' button');\n",
              "      quickchartButtonEl.disabled = true;  // To prevent multiple clicks.\n",
              "      quickchartButtonEl.classList.add('colab-df-spinner');\n",
              "      try {\n",
              "        const charts = await google.colab.kernel.invokeFunction(\n",
              "            'suggestCharts', [key], {});\n",
              "      } catch (error) {\n",
              "        console.error('Error during call to suggestCharts:', error);\n",
              "      }\n",
              "      quickchartButtonEl.classList.remove('colab-df-spinner');\n",
              "      quickchartButtonEl.classList.add('colab-df-quickchart-complete');\n",
              "    }\n",
              "    (() => {\n",
              "      let quickchartButtonEl =\n",
              "        document.querySelector('#df-7d91edda-04fd-4d11-8eaa-84e811a99091 button');\n",
              "      quickchartButtonEl.style.display =\n",
              "        google.colab.kernel.accessAllowed ? 'block' : 'none';\n",
              "    })();\n",
              "  </script>\n",
              "</div>\n",
              "\n",
              "    </div>\n",
              "  </div>\n"
            ],
            "application/vnd.google.colaboratory.intrinsic+json": {
              "type": "dataframe",
              "variable_name": "dados",
              "summary": "{\n  \"name\": \"dados\",\n  \"rows\": 303,\n  \"fields\": [\n    {\n      \"column\": \"age\",\n      \"properties\": {\n        \"dtype\": \"number\",\n        \"std\": 9,\n        \"min\": 29,\n        \"max\": 77,\n        \"num_unique_values\": 41,\n        \"samples\": [\n          61,\n          64,\n          44\n        ],\n        \"semantic_type\": \"\",\n        \"description\": \"\"\n      }\n    },\n    {\n      \"column\": \"sex\",\n      \"properties\": {\n        \"dtype\": \"number\",\n        \"std\": 0,\n        \"min\": 0,\n        \"max\": 1,\n        \"num_unique_values\": 2,\n        \"samples\": [\n          0,\n          1\n        ],\n        \"semantic_type\": \"\",\n        \"description\": \"\"\n      }\n    },\n    {\n      \"column\": \"cp\",\n      \"properties\": {\n        \"dtype\": \"number\",\n        \"std\": 0,\n        \"min\": 1,\n        \"max\": 4,\n        \"num_unique_values\": 4,\n        \"samples\": [\n          4,\n          2\n        ],\n        \"semantic_type\": \"\",\n        \"description\": \"\"\n      }\n    },\n    {\n      \"column\": \"trestbps\",\n      \"properties\": {\n        \"dtype\": \"number\",\n        \"std\": 17,\n        \"min\": 94,\n        \"max\": 200,\n        \"num_unique_values\": 50,\n        \"samples\": [\n          124,\n          192\n        ],\n        \"semantic_type\": \"\",\n        \"description\": \"\"\n      }\n    },\n    {\n      \"column\": \"chol\",\n      \"properties\": {\n        \"dtype\": \"number\",\n        \"std\": 51,\n        \"min\": 126,\n        \"max\": 564,\n        \"num_unique_values\": 152,\n        \"samples\": [\n          321,\n          187\n        ],\n        \"semantic_type\": \"\",\n        \"description\": \"\"\n      }\n    },\n    {\n      \"column\": \"fbs\",\n      \"properties\": {\n        \"dtype\": \"number\",\n        \"std\": 0,\n        \"min\": 0,\n        \"max\": 1,\n        \"num_unique_values\": 2,\n        \"samples\": [\n          0,\n          1\n        ],\n        \"semantic_type\": \"\",\n        \"description\": \"\"\n      }\n    },\n    {\n      \"column\": \"restecg\",\n      \"properties\": {\n        \"dtype\": \"number\",\n        \"std\": 0,\n        \"min\": 0,\n        \"max\": 2,\n        \"num_unique_values\": 3,\n        \"samples\": [\n          2,\n          0\n        ],\n        \"semantic_type\": \"\",\n        \"description\": \"\"\n      }\n    },\n    {\n      \"column\": \"thalach\",\n      \"properties\": {\n        \"dtype\": \"number\",\n        \"std\": 22,\n        \"min\": 71,\n        \"max\": 202,\n        \"num_unique_values\": 91,\n        \"samples\": [\n          170,\n          114\n        ],\n        \"semantic_type\": \"\",\n        \"description\": \"\"\n      }\n    },\n    {\n      \"column\": \"exang\",\n      \"properties\": {\n        \"dtype\": \"number\",\n        \"std\": 0,\n        \"min\": 0,\n        \"max\": 1,\n        \"num_unique_values\": 2,\n        \"samples\": [\n          1,\n          0\n        ],\n        \"semantic_type\": \"\",\n        \"description\": \"\"\n      }\n    },\n    {\n      \"column\": \"oldpeak\",\n      \"properties\": {\n        \"dtype\": \"number\",\n        \"std\": 1.1610750220686348,\n        \"min\": 0.0,\n        \"max\": 6.2,\n        \"num_unique_values\": 40,\n        \"samples\": [\n          2.4,\n          0.2\n        ],\n        \"semantic_type\": \"\",\n        \"description\": \"\"\n      }\n    },\n    {\n      \"column\": \"slope\",\n      \"properties\": {\n        \"dtype\": \"number\",\n        \"std\": 0,\n        \"min\": 1,\n        \"max\": 3,\n        \"num_unique_values\": 3,\n        \"samples\": [\n          3,\n          2\n        ],\n        \"semantic_type\": \"\",\n        \"description\": \"\"\n      }\n    },\n    {\n      \"column\": \"ca\",\n      \"properties\": {\n        \"dtype\": \"number\",\n        \"std\": 0.9374383177242163,\n        \"min\": 0.0,\n        \"max\": 3.0,\n        \"num_unique_values\": 4,\n        \"samples\": [\n          3.0,\n          1.0\n        ],\n        \"semantic_type\": \"\",\n        \"description\": \"\"\n      }\n    },\n    {\n      \"column\": \"thal\",\n      \"properties\": {\n        \"dtype\": \"number\",\n        \"std\": 1.939705769378644,\n        \"min\": 3.0,\n        \"max\": 7.0,\n        \"num_unique_values\": 3,\n        \"samples\": [\n          6.0,\n          3.0\n        ],\n        \"semantic_type\": \"\",\n        \"description\": \"\"\n      }\n    },\n    {\n      \"column\": \"num\",\n      \"properties\": {\n        \"dtype\": \"number\",\n        \"std\": 1,\n        \"min\": 0,\n        \"max\": 4,\n        \"num_unique_values\": 5,\n        \"samples\": [\n          2,\n          4\n        ],\n        \"semantic_type\": \"\",\n        \"description\": \"\"\n      }\n    }\n  ]\n}"
            }
          },
          "metadata": {},
          "execution_count": 4
        }
      ]
    },
    {
      "cell_type": "markdown",
      "source": [
        "## Análise das informações"
      ],
      "metadata": {
        "id": "JJNxYuqYEIrF"
      }
    },
    {
      "cell_type": "code",
      "source": [
        "dados.shape"
      ],
      "metadata": {
        "colab": {
          "base_uri": "https://localhost:8080/"
        },
        "id": "lBu_04VA2KLe",
        "outputId": "a785aac6-e40b-49c3-8258-a6bbb8c9d3c0"
      },
      "execution_count": 5,
      "outputs": [
        {
          "output_type": "execute_result",
          "data": {
            "text/plain": [
              "(303, 14)"
            ]
          },
          "metadata": {},
          "execution_count": 5
        }
      ]
    },
    {
      "cell_type": "code",
      "source": [
        "dados.info()"
      ],
      "metadata": {
        "colab": {
          "base_uri": "https://localhost:8080/"
        },
        "id": "RSzAu6A54NEp",
        "outputId": "2ff8154f-c7a1-436f-8a18-e4a67faa583f"
      },
      "execution_count": 6,
      "outputs": [
        {
          "output_type": "stream",
          "name": "stdout",
          "text": [
            "<class 'pandas.core.frame.DataFrame'>\n",
            "RangeIndex: 303 entries, 0 to 302\n",
            "Data columns (total 14 columns):\n",
            " #   Column    Non-Null Count  Dtype  \n",
            "---  ------    --------------  -----  \n",
            " 0   age       303 non-null    int64  \n",
            " 1   sex       303 non-null    int64  \n",
            " 2   cp        303 non-null    int64  \n",
            " 3   trestbps  303 non-null    int64  \n",
            " 4   chol      303 non-null    int64  \n",
            " 5   fbs       303 non-null    int64  \n",
            " 6   restecg   303 non-null    int64  \n",
            " 7   thalach   303 non-null    int64  \n",
            " 8   exang     303 non-null    int64  \n",
            " 9   oldpeak   303 non-null    float64\n",
            " 10  slope     303 non-null    int64  \n",
            " 11  ca        299 non-null    float64\n",
            " 12  thal      301 non-null    float64\n",
            " 13  num       303 non-null    int64  \n",
            "dtypes: float64(3), int64(11)\n",
            "memory usage: 33.3 KB\n"
          ]
        }
      ]
    },
    {
      "cell_type": "markdown",
      "source": [
        "## Tratamento dos dados faltantes"
      ],
      "metadata": {
        "id": "i7rGWRQnEN6H"
      }
    },
    {
      "cell_type": "code",
      "source": [
        "dados['ca'].fillna(dados['ca'].mode()[0], inplace=True)"
      ],
      "metadata": {
        "id": "cnahBMpF8iaZ"
      },
      "execution_count": 7,
      "outputs": []
    },
    {
      "cell_type": "code",
      "source": [
        "dados['thal'].fillna(dados['thal'].mode()[0], inplace=True)"
      ],
      "metadata": {
        "id": "uILJadVsAjF7"
      },
      "execution_count": 8,
      "outputs": []
    },
    {
      "cell_type": "code",
      "source": [
        "dados.isna().sum().sum()"
      ],
      "metadata": {
        "colab": {
          "base_uri": "https://localhost:8080/"
        },
        "id": "q7tMPYNCAsfK",
        "outputId": "38b5fe3b-487d-488e-a7e8-c68308156094"
      },
      "execution_count": 9,
      "outputs": [
        {
          "output_type": "execute_result",
          "data": {
            "text/plain": [
              "0"
            ]
          },
          "metadata": {},
          "execution_count": 9
        }
      ]
    },
    {
      "cell_type": "markdown",
      "source": [
        "## Visualização dos dados"
      ],
      "metadata": {
        "id": "Kl5yh7riEa-E"
      }
    },
    {
      "cell_type": "code",
      "source": [
        "sns.set_palette('Accent')\n",
        "sns.set_style('darkgrid')"
      ],
      "metadata": {
        "id": "aPU7oFVAF1Rc"
      },
      "execution_count": 10,
      "outputs": []
    },
    {
      "cell_type": "markdown",
      "source": [
        "Podemos verificar a relação da idade com as doenças cardíacas. Nota-se que a medida que a idade aumenta, as doenças cardíacas tendem a aparecer mais."
      ],
      "metadata": {
        "id": "0iNkhuJKJtd3"
      }
    },
    {
      "cell_type": "code",
      "source": [
        "ax = sns.boxplot(x = 'num', y = 'age', hue = 'num', data = dados)\n",
        "ax.set_title('Relação da idade e doença cardíaca')\n",
        "ax"
      ],
      "metadata": {
        "colab": {
          "base_uri": "https://localhost:8080/",
          "height": 489
        },
        "id": "FqCSFKh6EdPz",
        "outputId": "ebdef884-10c6-4702-b5e7-3e0bd0b98a76"
      },
      "execution_count": 11,
      "outputs": [
        {
          "output_type": "execute_result",
          "data": {
            "text/plain": [
              "<Axes: title={'center': 'Relação da idade e doença cardíaca'}, xlabel='num', ylabel='age'>"
            ]
          },
          "metadata": {},
          "execution_count": 11
        },
        {
          "output_type": "display_data",
          "data": {
            "text/plain": [
              "<Figure size 640x480 with 1 Axes>"
            ],
            "image/png": "[encoded data removed]"
          },
          "metadata": {}
        }
      ]
    },
    {
      "cell_type": "markdown",
      "source": [
        "Comparação entre quantidade de pessoas que possuem ou não doença"
      ],
      "metadata": {
        "id": "hiAH9HaZKG-S"
      }
    },
    {
      "cell_type": "code",
      "source": [
        "alvo = dados['num']\n",
        "alvo = [1 if num > 0 else 0 for num in alvo]"
      ],
      "metadata": {
        "id": "Sa7_Q_IeGeuv"
      },
      "execution_count": 12,
      "outputs": []
    },
    {
      "cell_type": "code",
      "source": [
        "rotulo = ['Possui', 'Não possui']\n",
        "tamanho = [alvo.count(1), alvo.count(0)]\n",
        "\n",
        "fig = plt.pie(tamanho, labels = rotulo, autopct='%1.1f%%')\n",
        "plt.title('Aparecimento da doença cardíaca')\n",
        "plt.show()"
      ],
      "metadata": {
        "colab": {
          "base_uri": "https://localhost:8080/",
          "height": 429
        },
        "id": "6etSxPjUFIEG",
        "outputId": "b65a8438-c37e-497a-b58d-f3ecef547513"
      },
      "execution_count": 13,
      "outputs": [
        {
          "output_type": "display_data",
          "data": {
            "text/plain": [
              "<Figure size 640x480 with 1 Axes>"
            ],
            "image/png": "[encoded data removed]"
          },
          "metadata": {}
        }
      ]
    },
    {
      "cell_type": "markdown",
      "source": [
        "## Correlação entre as variáveis"
      ],
      "metadata": {
        "id": "QowIbTqcLtos"
      }
    },
    {
      "cell_type": "markdown",
      "source": [
        "Podemos verificar qual a correlação entre as variáveis, especialmente com relação a presença ou ausência da doença. Nota-se que os valores de 'oldpeak', 'ca' e 'thal' tem correlação mais alta, enquanto 'fbs' e 'chol' tem pouca correlação."
      ],
      "metadata": {
        "id": "_z6APtmK3FMj"
      }
    },
    {
      "cell_type": "code",
      "source": [
        "correlacao = dados.corr()\n",
        "cores = sns.color_palette('light:salmon', as_cmap=True)\n",
        "mascara = np.zeros_like(correlacao)\n",
        "mascara[np.triu_indices_from(mascara)] = True\n",
        "with sns.axes_style(\"white\"):\n",
        "  f, ax = plt.subplots(figsize = (13,8))\n",
        "  ax = sns.heatmap(correlacao, cmap = cores, mask = mascara, square = True, fmt = '.2f', annot = True)\n",
        "  ax.set_title('Correlação entre variáveis', fontsize=20)"
      ],
      "metadata": {
        "colab": {
          "base_uri": "https://localhost:8080/",
          "height": 751
        },
        "id": "InyfI5kUJVez",
        "outputId": "a3aab178-527d-40fa-d1bf-c6529fe6f080"
      },
      "execution_count": 14,
      "outputs": [
        {
          "output_type": "display_data",
          "data": {
            "text/plain": [
              "<Figure size 1300x800 with 2 Axes>"
            ],
            "image/png": "[encoded data removed]"
          },
          "metadata": {}
        }
      ]
    },
    {
      "cell_type": "markdown",
      "source": [
        "# Desenvolvimento do modelo"
      ],
      "metadata": {
        "id": "GpAiuBBREQlp"
      }
    },
    {
      "cell_type": "markdown",
      "source": [
        "## Obtenção das variáveis explicativas e da variável alvo"
      ],
      "metadata": {
        "id": "LEKsNeqREUdV"
      }
    },
    {
      "cell_type": "markdown",
      "source": [
        "Para desenvolver o modelo será necessário obter colunas que representam as variáveis categóricas."
      ],
      "metadata": {
        "id": "Wu5d1AcI3sR4"
      }
    },
    {
      "cell_type": "code",
      "source": [
        "variaveis_categoricas = dados[['sex', 'cp', 'fbs', 'restecg', 'exang', 'slope', 'thal']].columns\n",
        "variaveis_categoricas"
      ],
      "metadata": {
        "colab": {
          "base_uri": "https://localhost:8080/"
        },
        "id": "VPy-Xho3Avhp",
        "outputId": "182184c6-6d88-40ab-c0e2-52a616219824"
      },
      "execution_count": 15,
      "outputs": [
        {
          "output_type": "execute_result",
          "data": {
            "text/plain": [
              "Index(['sex', 'cp', 'fbs', 'restecg', 'exang', 'slope', 'thal'], dtype='object')"
            ]
          },
          "metadata": {},
          "execution_count": 15
        }
      ]
    },
    {
      "cell_type": "code",
      "source": [
        "dados_dummies = dados[variaveis_categoricas].astype(str)\n",
        "dados_dummies = pd.get_dummies(dados_dummies)\n",
        "dados_dummies = dados_dummies.astype(int)\n",
        "dados_dummies.head()"
      ],
      "metadata": {
        "colab": {
          "base_uri": "https://localhost:8080/",
          "height": 226
        },
        "id": "7ndlfG0bOX_E",
        "outputId": "fb8b53ea-5098-45cd-baf4-836106a6001f"
      },
      "execution_count": 16,
      "outputs": [
        {
          "output_type": "execute_result",
          "data": {
            "text/plain": [
              "   sex_0  sex_1  cp_1  cp_2  cp_3  cp_4  fbs_0  fbs_1  restecg_0  restecg_1  \\\n",
              "0      0      1     1     0     0     0      0      1          0          0   \n",
              "1      0      1     0     0     0     1      1      0          0          0   \n",
              "2      0      1     0     0     0     1      1      0          0          0   \n",
              "3      0      1     0     0     1     0      1      0          1          0   \n",
              "4      1      0     0     1     0     0      1      0          0          0   \n",
              "\n",
              "   restecg_2  exang_0  exang_1  slope_1  slope_2  slope_3  thal_3.0  thal_6.0  \\\n",
              "0          1        1        0        0        0        1         0         1   \n",
              "1          1        0        1        0        1        0         1         0   \n",
              "2          1        0        1        0        1        0         0         0   \n",
              "3          0        1        0        0        0        1         1         0   \n",
              "4          1        1        0        1        0        0         1         0   \n",
              "\n",
              "   thal_7.0  \n",
              "0         0  \n",
              "1         0  \n",
              "2         1  \n",
              "3         0  \n",
              "4         0  "
            ],
            "text/html": [
              "\n",
              "  <div id=\"df-452d5313-0fed-4c4a-974d-cf61c38ae912\" class=\"colab-df-container\">\n",
              "    <div>\n",
              "<style scoped>\n",
              "    .dataframe tbody tr th:only-of-type {\n",
              "        vertical-align: middle;\n",
              "    }\n",
              "\n",
              "    .dataframe tbody tr th {\n",
              "        vertical-align: top;\n",
              "    }\n",
              "\n",
              "    .dataframe thead th {\n",
              "        text-align: right;\n",
              "    }\n",
              "</style>\n",
              "<table border=\"1\" class=\"dataframe\">\n",
              "  <thead>\n",
              "    <tr style=\"text-align: right;\">\n",
              "      <th></th>\n",
              "      <th>sex_0</th>\n",
              "      <th>sex_1</th>\n",
              "      <th>cp_1</th>\n",
              "      <th>cp_2</th>\n",
              "      <th>cp_3</th>\n",
              "      <th>cp_4</th>\n",
              "      <th>fbs_0</th>\n",
              "      <th>fbs_1</th>\n",
              "      <th>restecg_0</th>\n",
              "      <th>restecg_1</th>\n",
              "      <th>restecg_2</th>\n",
              "      <th>exang_0</th>\n",
              "      <th>exang_1</th>\n",
              "      <th>slope_1</th>\n",
              "      <th>slope_2</th>\n",
              "      <th>slope_3</th>\n",
              "      <th>thal_3.0</th>\n",
              "      <th>thal_6.0</th>\n",
              "      <th>thal_7.0</th>\n",
              "    </tr>\n",
              "  </thead>\n",
              "  <tbody>\n",
              "    <tr>\n",
              "      <th>0</th>\n",
              "      <td>0</td>\n",
              "      <td>1</td>\n",
              "      <td>1</td>\n",
              "      <td>0</td>\n",
              "      <td>0</td>\n",
              "      <td>0</td>\n",
              "      <td>0</td>\n",
              "      <td>1</td>\n",
              "      <td>0</td>\n",
              "      <td>0</td>\n",
              "      <td>1</td>\n",
              "      <td>1</td>\n",
              "      <td>0</td>\n",
              "      <td>0</td>\n",
              "      <td>0</td>\n",
              "      <td>1</td>\n",
              "      <td>0</td>\n",
              "      <td>1</td>\n",
              "      <td>0</td>\n",
              "    </tr>\n",
              "    <tr>\n",
              "      <th>1</th>\n",
              "      <td>0</td>\n",
              "      <td>1</td>\n",
              "      <td>0</td>\n",
              "      <td>0</td>\n",
              "      <td>0</td>\n",
              "      <td>1</td>\n",
              "      <td>1</td>\n",
              "      <td>0</td>\n",
              "      <td>0</td>\n",
              "      <td>0</td>\n",
              "      <td>1</td>\n",
              "      <td>0</td>\n",
              "      <td>1</td>\n",
              "      <td>0</td>\n",
              "      <td>1</td>\n",
              "      <td>0</td>\n",
              "      <td>1</td>\n",
              "      <td>0</td>\n",
              "      <td>0</td>\n",
              "    </tr>\n",
              "    <tr>\n",
              "      <th>2</th>\n",
              "      <td>0</td>\n",
              "      <td>1</td>\n",
              "      <td>0</td>\n",
              "      <td>0</td>\n",
              "      <td>0</td>\n",
              "      <td>1</td>\n",
              "      <td>1</td>\n",
              "      <td>0</td>\n",
              "      <td>0</td>\n",
              "      <td>0</td>\n",
              "      <td>1</td>\n",
              "      <td>0</td>\n",
              "      <td>1</td>\n",
              "      <td>0</td>\n",
              "      <td>1</td>\n",
              "      <td>0</td>\n",
              "      <td>0</td>\n",
              "      <td>0</td>\n",
              "      <td>1</td>\n",
              "    </tr>\n",
              "    <tr>\n",
              "      <th>3</th>\n",
              "      <td>0</td>\n",
              "      <td>1</td>\n",
              "      <td>0</td>\n",
              "      <td>0</td>\n",
              "      <td>1</td>\n",
              "      <td>0</td>\n",
              "      <td>1</td>\n",
              "      <td>0</td>\n",
              "      <td>1</td>\n",
              "      <td>0</td>\n",
              "      <td>0</td>\n",
              "      <td>1</td>\n",
              "      <td>0</td>\n",
              "      <td>0</td>\n",
              "      <td>0</td>\n",
              "      <td>1</td>\n",
              "      <td>1</td>\n",
              "      <td>0</td>\n",
              "      <td>0</td>\n",
              "    </tr>\n",
              "    <tr>\n",
              "      <th>4</th>\n",
              "      <td>1</td>\n",
              "      <td>0</td>\n",
              "      <td>0</td>\n",
              "      <td>1</td>\n",
              "      <td>0</td>\n",
              "      <td>0</td>\n",
              "      <td>1</td>\n",
              "      <td>0</td>\n",
              "      <td>0</td>\n",
              "      <td>0</td>\n",
              "      <td>1</td>\n",
              "      <td>1</td>\n",
              "      <td>0</td>\n",
              "      <td>1</td>\n",
              "      <td>0</td>\n",
              "      <td>0</td>\n",
              "      <td>1</td>\n",
              "      <td>0</td>\n",
              "      <td>0</td>\n",
              "    </tr>\n",
              "  </tbody>\n",
              "</table>\n",
              "</div>\n",
              "    <div class=\"colab-df-buttons\">\n",
              "\n",
              "  <div class=\"colab-df-container\">\n",
              "    <button class=\"colab-df-convert\" onclick=\"convertToInteractive('df-452d5313-0fed-4c4a-974d-cf61c38ae912')\"\n",
              "            title=\"Convert this dataframe to an interactive table.\"\n",
              "            style=\"display:none;\">\n",
              "\n",
              "  <svg xmlns=\"http://www.w3.org/2000/svg\" height=\"24px\" viewBox=\"0 -960 960 960\">\n",
              "    <path d=\"M120-120v-720h720v720H120Zm60-500h600v-160H180v160Zm220 220h160v-160H400v160Zm0 220h160v-160H400v160ZM180-400h160v-160H180v160Zm440 0h160v-160H620v160ZM180-180h160v-160H180v160Zm440 0h160v-160H620v160Z\"/>\n",
              "  </svg>\n",
              "    </button>\n",
              "\n",
              "  <style>\n",
              "    .colab-df-container {\n",
              "      display:flex;\n",
              "      gap: 12px;\n",
              "    }\n",
              "\n",
              "    .colab-df-convert {\n",
              "      background-color: #E8F0FE;\n",
              "      border: none;\n",
              "      border-radius: 50%;\n",
              "      cursor: pointer;\n",
              "      display: none;\n",
              "      fill: #1967D2;\n",
              "      height: 32px;\n",
              "      padding: 0 0 0 0;\n",
              "      width: 32px;\n",
              "    }\n",
              "\n",
              "    .colab-df-convert:hover {\n",
              "      background-color: #E2EBFA;\n",
              "      box-shadow: 0px 1px 2px rgba(60, 64, 67, 0.3), 0px 1px 3px 1px rgba(60, 64, 67, 0.15);\n",
              "      fill: #174EA6;\n",
              "    }\n",
              "\n",
              "    .colab-df-buttons div {\n",
              "      margin-bottom: 4px;\n",
              "    }\n",
              "\n",
              "    [theme=dark] .colab-df-convert {\n",
              "      background-color: #3B4455;\n",
              "      fill: #D2E3FC;\n",
              "    }\n",
              "\n",
              "    [theme=dark] .colab-df-convert:hover {\n",
              "      background-color: #434B5C;\n",
              "      box-shadow: 0px 1px 3px 1px rgba(0, 0, 0, 0.15);\n",
              "      filter: drop-shadow(0px 1px 2px rgba(0, 0, 0, 0.3));\n",
              "      fill: #FFFFFF;\n",
              "    }\n",
              "  </style>\n",
              "\n",
              "    <script>\n",
              "      const buttonEl =\n",
              "        document.querySelector('#df-452d5313-0fed-4c4a-974d-cf61c38ae912 button.colab-df-convert');\n",
              "      buttonEl.style.display =\n",
              "        google.colab.kernel.accessAllowed ? 'block' : 'none';\n",
              "\n",
              "      async function convertToInteractive(key) {\n",
              "        const element = document.querySelector('#df-452d5313-0fed-4c4a-974d-cf61c38ae912');\n",
              "        const dataTable =\n",
              "          await google.colab.kernel.invokeFunction('convertToInteractive',\n",
              "                                                    [key], {});\n",
              "        if (!dataTable) return;\n",
              "\n",
              "        const docLinkHtml = 'Like what you see? Visit the ' +\n",
              "          '<a target=\"_blank\" href=https://colab.research.google.com/notebooks/data_table.ipynb>data table notebook</a>'\n",
              "          + ' to learn more about interactive tables.';\n",
              "        element.innerHTML = '';\n",
              "        dataTable['output_type'] = 'display_data';\n",
              "        await google.colab.output.renderOutput(dataTable, element);\n",
              "        const docLink = document.createElement('div');\n",
              "        docLink.innerHTML = docLinkHtml;\n",
              "        element.appendChild(docLink);\n",
              "      }\n",
              "    </script>\n",
              "  </div>\n",
              "\n",
              "\n",
              "<div id=\"df-062e1e83-7eea-40a2-bbbf-e2bc6f9e68c9\">\n",
              "  <button class=\"colab-df-quickchart\" onclick=\"quickchart('df-062e1e83-7eea-40a2-bbbf-e2bc6f9e68c9')\"\n",
              "            title=\"Suggest charts\"\n",
              "            style=\"display:none;\">\n",
              "\n",
              "<svg xmlns=\"http://www.w3.org/2000/svg\" height=\"24px\"viewBox=\"0 0 24 24\"\n",
              "     width=\"24px\">\n",
              "    <g>\n",
              "        <path d=\"M19 3H5c-1.1 0-2 .9-2 2v14c0 1.1.9 2 2 2h14c1.1 0 2-.9 2-2V5c0-1.1-.9-2-2-2zM9 17H7v-7h2v7zm4 0h-2V7h2v10zm4 0h-2v-4h2v4z\"/>\n",
              "    </g>\n",
              "</svg>\n",
              "  </button>\n",
              "\n",
              "<style>\n",
              "  .colab-df-quickchart {\n",
              "      --bg-color: #E8F0FE;\n",
              "      --fill-color: #1967D2;\n",
              "      --hover-bg-color: #E2EBFA;\n",
              "      --hover-fill-color: #174EA6;\n",
              "      --disabled-fill-color: #AAA;\n",
              "      --disabled-bg-color: #DDD;\n",
              "  }\n",
              "\n",
              "  [theme=dark] .colab-df-quickchart {\n",
              "      --bg-color: #3B4455;\n",
              "      --fill-color: #D2E3FC;\n",
              "      --hover-bg-color: #434B5C;\n",
              "      --hover-fill-color: #FFFFFF;\n",
              "      --disabled-bg-color: #3B4455;\n",
              "      --disabled-fill-color: #666;\n",
              "  }\n",
              "\n",
              "  .colab-df-quickchart {\n",
              "    background-color: var(--bg-color);\n",
              "    border: none;\n",
              "    border-radius: 50%;\n",
              "    cursor: pointer;\n",
              "    display: none;\n",
              "    fill: var(--fill-color);\n",
              "    height: 32px;\n",
              "    padding: 0;\n",
              "    width: 32px;\n",
              "  }\n",
              "\n",
              "  .colab-df-quickchart:hover {\n",
              "    background-color: var(--hover-bg-color);\n",
              "    box-shadow: 0 1px 2px rgba(60, 64, 67, 0.3), 0 1px 3px 1px rgba(60, 64, 67, 0.15);\n",
              "    fill: var(--button-hover-fill-color);\n",
              "  }\n",
              "\n",
              "  .colab-df-quickchart-complete:disabled,\n",
              "  .colab-df-quickchart-complete:disabled:hover {\n",
              "    background-color: var(--disabled-bg-color);\n",
              "    fill: var(--disabled-fill-color);\n",
              "    box-shadow: none;\n",
              "  }\n",
              "\n",
              "  .colab-df-spinner {\n",
              "    border: 2px solid var(--fill-color);\n",
              "    border-color: transparent;\n",
              "    border-bottom-color: var(--fill-color);\n",
              "    animation:\n",
              "      spin 1s steps(1) infinite;\n",
              "  }\n",
              "\n",
              "  @keyframes spin {\n",
              "    0% {\n",
              "      border-color: transparent;\n",
              "      border-bottom-color: var(--fill-color);\n",
              "      border-left-color: var(--fill-color);\n",
              "    }\n",
              "    20% {\n",
              "      border-color: transparent;\n",
              "      border-left-color: var(--fill-color);\n",
              "      border-top-color: var(--fill-color);\n",
              "    }\n",
              "    30% {\n",
              "      border-color: transparent;\n",
              "      border-left-color: var(--fill-color);\n",
              "      border-top-color: var(--fill-color);\n",
              "      border-right-color: var(--fill-color);\n",
              "    }\n",
              "    40% {\n",
              "      border-color: transparent;\n",
              "      border-right-color: var(--fill-color);\n",
              "      border-top-color: var(--fill-color);\n",
              "    }\n",
              "    60% {\n",
              "      border-color: transparent;\n",
              "      border-right-color: var(--fill-color);\n",
              "    }\n",
              "    80% {\n",
              "      border-color: transparent;\n",
              "      border-right-color: var(--fill-color);\n",
              "      border-bottom-color: var(--fill-color);\n",
              "    }\n",
              "    90% {\n",
              "      border-color: transparent;\n",
              "      border-bottom-color: var(--fill-color);\n",
              "    }\n",
              "  }\n",
              "</style>\n",
              "\n",
              "  <script>\n",
              "    async function quickchart(key) {\n",
              "      const quickchartButtonEl =\n",
              "        document.querySelector('#' + key + ' button');\n",
              "      quickchartButtonEl.disabled = true;  // To prevent multiple clicks.\n",
              "      quickchartButtonEl.classList.add('colab-df-spinner');\n",
              "      try {\n",
              "        const charts = await google.colab.kernel.invokeFunction(\n",
              "            'suggestCharts', [key], {});\n",
              "      } catch (error) {\n",
              "        console.error('Error during call to suggestCharts:', error);\n",
              "      }\n",
              "      quickchartButtonEl.classList.remove('colab-df-spinner');\n",
              "      quickchartButtonEl.classList.add('colab-df-quickchart-complete');\n",
              "    }\n",
              "    (() => {\n",
              "      let quickchartButtonEl =\n",
              "        document.querySelector('#df-062e1e83-7eea-40a2-bbbf-e2bc6f9e68c9 button');\n",
              "      quickchartButtonEl.style.display =\n",
              "        google.colab.kernel.accessAllowed ? 'block' : 'none';\n",
              "    })();\n",
              "  </script>\n",
              "</div>\n",
              "\n",
              "    </div>\n",
              "  </div>\n"
            ],
            "application/vnd.google.colaboratory.intrinsic+json": {
              "type": "dataframe",
              "variable_name": "dados_dummies",
              "summary": "{\n  \"name\": \"dados_dummies\",\n  \"rows\": 303,\n  \"fields\": [\n    {\n      \"column\": \"sex_0\",\n      \"properties\": {\n        \"dtype\": \"number\",\n        \"std\": 0,\n        \"min\": 0,\n        \"max\": 1,\n        \"num_unique_values\": 2,\n        \"samples\": [\n          1,\n          0\n        ],\n        \"semantic_type\": \"\",\n        \"description\": \"\"\n      }\n    },\n    {\n      \"column\": \"sex_1\",\n      \"properties\": {\n        \"dtype\": \"number\",\n        \"std\": 0,\n        \"min\": 0,\n        \"max\": 1,\n        \"num_unique_values\": 2,\n        \"samples\": [\n          0,\n          1\n        ],\n        \"semantic_type\": \"\",\n        \"description\": \"\"\n      }\n    },\n    {\n      \"column\": \"cp_1\",\n      \"properties\": {\n        \"dtype\": \"number\",\n        \"std\": 0,\n        \"min\": 0,\n        \"max\": 1,\n        \"num_unique_values\": 2,\n        \"samples\": [\n          0,\n          1\n        ],\n        \"semantic_type\": \"\",\n        \"description\": \"\"\n      }\n    },\n    {\n      \"column\": \"cp_2\",\n      \"properties\": {\n        \"dtype\": \"number\",\n        \"std\": 0,\n        \"min\": 0,\n        \"max\": 1,\n        \"num_unique_values\": 2,\n        \"samples\": [\n          1,\n          0\n        ],\n        \"semantic_type\": \"\",\n        \"description\": \"\"\n      }\n    },\n    {\n      \"column\": \"cp_3\",\n      \"properties\": {\n        \"dtype\": \"number\",\n        \"std\": 0,\n        \"min\": 0,\n        \"max\": 1,\n        \"num_unique_values\": 2,\n        \"samples\": [\n          1,\n          0\n        ],\n        \"semantic_type\": \"\",\n        \"description\": \"\"\n      }\n    },\n    {\n      \"column\": \"cp_4\",\n      \"properties\": {\n        \"dtype\": \"number\",\n        \"std\": 0,\n        \"min\": 0,\n        \"max\": 1,\n        \"num_unique_values\": 2,\n        \"samples\": [\n          1,\n          0\n        ],\n        \"semantic_type\": \"\",\n        \"description\": \"\"\n      }\n    },\n    {\n      \"column\": \"fbs_0\",\n      \"properties\": {\n        \"dtype\": \"number\",\n        \"std\": 0,\n        \"min\": 0,\n        \"max\": 1,\n        \"num_unique_values\": 2,\n        \"samples\": [\n          1,\n          0\n        ],\n        \"semantic_type\": \"\",\n        \"description\": \"\"\n      }\n    },\n    {\n      \"column\": \"fbs_1\",\n      \"properties\": {\n        \"dtype\": \"number\",\n        \"std\": 0,\n        \"min\": 0,\n        \"max\": 1,\n        \"num_unique_values\": 2,\n        \"samples\": [\n          0,\n          1\n        ],\n        \"semantic_type\": \"\",\n        \"description\": \"\"\n      }\n    },\n    {\n      \"column\": \"restecg_0\",\n      \"properties\": {\n        \"dtype\": \"number\",\n        \"std\": 0,\n        \"min\": 0,\n        \"max\": 1,\n        \"num_unique_values\": 2,\n        \"samples\": [\n          1,\n          0\n        ],\n        \"semantic_type\": \"\",\n        \"description\": \"\"\n      }\n    },\n    {\n      \"column\": \"restecg_1\",\n      \"properties\": {\n        \"dtype\": \"number\",\n        \"std\": 0,\n        \"min\": 0,\n        \"max\": 1,\n        \"num_unique_values\": 2,\n        \"samples\": [\n          1,\n          0\n        ],\n        \"semantic_type\": \"\",\n        \"description\": \"\"\n      }\n    },\n    {\n      \"column\": \"restecg_2\",\n      \"properties\": {\n        \"dtype\": \"number\",\n        \"std\": 0,\n        \"min\": 0,\n        \"max\": 1,\n        \"num_unique_values\": 2,\n        \"samples\": [\n          0,\n          1\n        ],\n        \"semantic_type\": \"\",\n        \"description\": \"\"\n      }\n    },\n    {\n      \"column\": \"exang_0\",\n      \"properties\": {\n        \"dtype\": \"number\",\n        \"std\": 0,\n        \"min\": 0,\n        \"max\": 1,\n        \"num_unique_values\": 2,\n        \"samples\": [\n          0,\n          1\n        ],\n        \"semantic_type\": \"\",\n        \"description\": \"\"\n      }\n    },\n    {\n      \"column\": \"exang_1\",\n      \"properties\": {\n        \"dtype\": \"number\",\n        \"std\": 0,\n        \"min\": 0,\n        \"max\": 1,\n        \"num_unique_values\": 2,\n        \"samples\": [\n          1,\n          0\n        ],\n        \"semantic_type\": \"\",\n        \"description\": \"\"\n      }\n    },\n    {\n      \"column\": \"slope_1\",\n      \"properties\": {\n        \"dtype\": \"number\",\n        \"std\": 0,\n        \"min\": 0,\n        \"max\": 1,\n        \"num_unique_values\": 2,\n        \"samples\": [\n          1,\n          0\n        ],\n        \"semantic_type\": \"\",\n        \"description\": \"\"\n      }\n    },\n    {\n      \"column\": \"slope_2\",\n      \"properties\": {\n        \"dtype\": \"number\",\n        \"std\": 0,\n        \"min\": 0,\n        \"max\": 1,\n        \"num_unique_values\": 2,\n        \"samples\": [\n          1,\n          0\n        ],\n        \"semantic_type\": \"\",\n        \"description\": \"\"\n      }\n    },\n    {\n      \"column\": \"slope_3\",\n      \"properties\": {\n        \"dtype\": \"number\",\n        \"std\": 0,\n        \"min\": 0,\n        \"max\": 1,\n        \"num_unique_values\": 2,\n        \"samples\": [\n          0,\n          1\n        ],\n        \"semantic_type\": \"\",\n        \"description\": \"\"\n      }\n    },\n    {\n      \"column\": \"thal_3.0\",\n      \"properties\": {\n        \"dtype\": \"number\",\n        \"std\": 0,\n        \"min\": 0,\n        \"max\": 1,\n        \"num_unique_values\": 2,\n        \"samples\": [\n          1,\n          0\n        ],\n        \"semantic_type\": \"\",\n        \"description\": \"\"\n      }\n    },\n    {\n      \"column\": \"thal_6.0\",\n      \"properties\": {\n        \"dtype\": \"number\",\n        \"std\": 0,\n        \"min\": 0,\n        \"max\": 1,\n        \"num_unique_values\": 2,\n        \"samples\": [\n          0,\n          1\n        ],\n        \"semantic_type\": \"\",\n        \"description\": \"\"\n      }\n    },\n    {\n      \"column\": \"thal_7.0\",\n      \"properties\": {\n        \"dtype\": \"number\",\n        \"std\": 0,\n        \"min\": 0,\n        \"max\": 1,\n        \"num_unique_values\": 2,\n        \"samples\": [\n          1,\n          0\n        ],\n        \"semantic_type\": \"\",\n        \"description\": \"\"\n      }\n    }\n  ]\n}"
            }
          },
          "metadata": {},
          "execution_count": 16
        }
      ]
    },
    {
      "cell_type": "code",
      "source": [
        "dados_com_dummies = pd.concat([dados.drop(variaveis_categoricas, axis=1), dados_dummies],axis=1)\n",
        "dados_com_dummies.head()"
      ],
      "metadata": {
        "colab": {
          "base_uri": "https://localhost:8080/",
          "height": 256
        },
        "id": "fTNbjJKIOsH3",
        "outputId": "bd8b297e-9cf1-4594-d1fa-76abee480654"
      },
      "execution_count": 17,
      "outputs": [
        {
          "output_type": "execute_result",
          "data": {
            "text/plain": [
              "   age  trestbps  chol  thalach  oldpeak   ca  num  sex_0  sex_1  cp_1  ...  \\\n",
              "0   63       145   233      150      2.3  0.0    0      0      1     1  ...   \n",
              "1   67       160   286      108      1.5  3.0    2      0      1     0  ...   \n",
              "2   67       120   229      129      2.6  2.0    1      0      1     0  ...   \n",
              "3   37       130   250      187      3.5  0.0    0      0      1     0  ...   \n",
              "4   41       130   204      172      1.4  0.0    0      1      0     0  ...   \n",
              "\n",
              "   restecg_1  restecg_2  exang_0  exang_1  slope_1  slope_2  slope_3  \\\n",
              "0          0          1        1        0        0        0        1   \n",
              "1          0          1        0        1        0        1        0   \n",
              "2          0          1        0        1        0        1        0   \n",
              "3          0          0        1        0        0        0        1   \n",
              "4          0          1        1        0        1        0        0   \n",
              "\n",
              "   thal_3.0  thal_6.0  thal_7.0  \n",
              "0         0         1         0  \n",
              "1         1         0         0  \n",
              "2         0         0         1  \n",
              "3         1         0         0  \n",
              "4         1         0         0  \n",
              "\n",
              "[5 rows x 26 columns]"
            ],
            "text/html": [
              "\n",
              "  <div id=\"df-4ee6c910-73ec-43a6-95f2-bec46a0b407e\" class=\"colab-df-container\">\n",
              "    <div>\n",
              "<style scoped>\n",
              "    .dataframe tbody tr th:only-of-type {\n",
              "        vertical-align: middle;\n",
              "    }\n",
              "\n",
              "    .dataframe tbody tr th {\n",
              "        vertical-align: top;\n",
              "    }\n",
              "\n",
              "    .dataframe thead th {\n",
              "        text-align: right;\n",
              "    }\n",
              "</style>\n",
              "<table border=\"1\" class=\"dataframe\">\n",
              "  <thead>\n",
              "    <tr style=\"text-align: right;\">\n",
              "      <th></th>\n",
              "      <th>age</th>\n",
              "      <th>trestbps</th>\n",
              "      <th>chol</th>\n",
              "      <th>thalach</th>\n",
              "      <th>oldpeak</th>\n",
              "      <th>ca</th>\n",
              "      <th>num</th>\n",
              "      <th>sex_0</th>\n",
              "      <th>sex_1</th>\n",
              "      <th>cp_1</th>\n",
              "      <th>...</th>\n",
              "      <th>restecg_1</th>\n",
              "      <th>restecg_2</th>\n",
              "      <th>exang_0</th>\n",
              "      <th>exang_1</th>\n",
              "      <th>slope_1</th>\n",
              "      <th>slope_2</th>\n",
              "      <th>slope_3</th>\n",
              "      <th>thal_3.0</th>\n",
              "      <th>thal_6.0</th>\n",
              "      <th>thal_7.0</th>\n",
              "    </tr>\n",
              "  </thead>\n",
              "  <tbody>\n",
              "    <tr>\n",
              "      <th>0</th>\n",
              "      <td>63</td>\n",
              "      <td>145</td>\n",
              "      <td>233</td>\n",
              "      <td>150</td>\n",
              "      <td>2.3</td>\n",
              "      <td>0.0</td>\n",
              "      <td>0</td>\n",
              "      <td>0</td>\n",
              "      <td>1</td>\n",
              "      <td>1</td>\n",
              "      <td>...</td>\n",
              "      <td>0</td>\n",
              "      <td>1</td>\n",
              "      <td>1</td>\n",
              "      <td>0</td>\n",
              "      <td>0</td>\n",
              "      <td>0</td>\n",
              "      <td>1</td>\n",
              "      <td>0</td>\n",
              "      <td>1</td>\n",
              "      <td>0</td>\n",
              "    </tr>\n",
              "    <tr>\n",
              "      <th>1</th>\n",
              "      <td>67</td>\n",
              "      <td>160</td>\n",
              "      <td>286</td>\n",
              "      <td>108</td>\n",
              "      <td>1.5</td>\n",
              "      <td>3.0</td>\n",
              "      <td>2</td>\n",
              "      <td>0</td>\n",
              "      <td>1</td>\n",
              "      <td>0</td>\n",
              "      <td>...</td>\n",
              "      <td>0</td>\n",
              "      <td>1</td>\n",
              "      <td>0</td>\n",
              "      <td>1</td>\n",
              "      <td>0</td>\n",
              "      <td>1</td>\n",
              "      <td>0</td>\n",
              "      <td>1</td>\n",
              "      <td>0</td>\n",
              "      <td>0</td>\n",
              "    </tr>\n",
              "    <tr>\n",
              "      <th>2</th>\n",
              "      <td>67</td>\n",
              "      <td>120</td>\n",
              "      <td>229</td>\n",
              "      <td>129</td>\n",
              "      <td>2.6</td>\n",
              "      <td>2.0</td>\n",
              "      <td>1</td>\n",
              "      <td>0</td>\n",
              "      <td>1</td>\n",
              "      <td>0</td>\n",
              "      <td>...</td>\n",
              "      <td>0</td>\n",
              "      <td>1</td>\n",
              "      <td>0</td>\n",
              "      <td>1</td>\n",
              "      <td>0</td>\n",
              "      <td>1</td>\n",
              "      <td>0</td>\n",
              "      <td>0</td>\n",
              "      <td>0</td>\n",
              "      <td>1</td>\n",
              "    </tr>\n",
              "    <tr>\n",
              "      <th>3</th>\n",
              "      <td>37</td>\n",
              "      <td>130</td>\n",
              "      <td>250</td>\n",
              "      <td>187</td>\n",
              "      <td>3.5</td>\n",
              "      <td>0.0</td>\n",
              "      <td>0</td>\n",
              "      <td>0</td>\n",
              "      <td>1</td>\n",
              "      <td>0</td>\n",
              "      <td>...</td>\n",
              "      <td>0</td>\n",
              "      <td>0</td>\n",
              "      <td>1</td>\n",
              "      <td>0</td>\n",
              "      <td>0</td>\n",
              "      <td>0</td>\n",
              "      <td>1</td>\n",
              "      <td>1</td>\n",
              "      <td>0</td>\n",
              "      <td>0</td>\n",
              "    </tr>\n",
              "    <tr>\n",
              "      <th>4</th>\n",
              "      <td>41</td>\n",
              "      <td>130</td>\n",
              "      <td>204</td>\n",
              "      <td>172</td>\n",
              "      <td>1.4</td>\n",
              "      <td>0.0</td>\n",
              "      <td>0</td>\n",
              "      <td>1</td>\n",
              "      <td>0</td>\n",
              "      <td>0</td>\n",
              "      <td>...</td>\n",
              "      <td>0</td>\n",
              "      <td>1</td>\n",
              "      <td>1</td>\n",
              "      <td>0</td>\n",
              "      <td>1</td>\n",
              "      <td>0</td>\n",
              "      <td>0</td>\n",
              "      <td>1</td>\n",
              "      <td>0</td>\n",
              "      <td>0</td>\n",
              "    </tr>\n",
              "  </tbody>\n",
              "</table>\n",
              "<p>5 rows × 26 columns</p>\n",
              "</div>\n",
              "    <div class=\"colab-df-buttons\">\n",
              "\n",
              "  <div class=\"colab-df-container\">\n",
              "    <button class=\"colab-df-convert\" onclick=\"convertToInteractive('df-4ee6c910-73ec-43a6-95f2-bec46a0b407e')\"\n",
              "            title=\"Convert this dataframe to an interactive table.\"\n",
              "            style=\"display:none;\">\n",
              "\n",
              "  <svg xmlns=\"http://www.w3.org/2000/svg\" height=\"24px\" viewBox=\"0 -960 960 960\">\n",
              "    <path d=\"M120-120v-720h720v720H120Zm60-500h600v-160H180v160Zm220 220h160v-160H400v160Zm0 220h160v-160H400v160ZM180-400h160v-160H180v160Zm440 0h160v-160H620v160ZM180-180h160v-160H180v160Zm440 0h160v-160H620v160Z\"/>\n",
              "  </svg>\n",
              "    </button>\n",
              "\n",
              "  <style>\n",
              "    .colab-df-container {\n",
              "      display:flex;\n",
              "      gap: 12px;\n",
              "    }\n",
              "\n",
              "    .colab-df-convert {\n",
              "      background-color: #E8F0FE;\n",
              "      border: none;\n",
              "      border-radius: 50%;\n",
              "      cursor: pointer;\n",
              "      display: none;\n",
              "      fill: #1967D2;\n",
              "      height: 32px;\n",
              "      padding: 0 0 0 0;\n",
              "      width: 32px;\n",
              "    }\n",
              "\n",
              "    .colab-df-convert:hover {\n",
              "      background-color: #E2EBFA;\n",
              "      box-shadow: 0px 1px 2px rgba(60, 64, 67, 0.3), 0px 1px 3px 1px rgba(60, 64, 67, 0.15);\n",
              "      fill: #174EA6;\n",
              "    }\n",
              "\n",
              "    .colab-df-buttons div {\n",
              "      margin-bottom: 4px;\n",
              "    }\n",
              "\n",
              "    [theme=dark] .colab-df-convert {\n",
              "      background-color: #3B4455;\n",
              "      fill: #D2E3FC;\n",
              "    }\n",
              "\n",
              "    [theme=dark] .colab-df-convert:hover {\n",
              "      background-color: #434B5C;\n",
              "      box-shadow: 0px 1px 3px 1px rgba(0, 0, 0, 0.15);\n",
              "      filter: drop-shadow(0px 1px 2px rgba(0, 0, 0, 0.3));\n",
              "      fill: #FFFFFF;\n",
              "    }\n",
              "  </style>\n",
              "\n",
              "    <script>\n",
              "      const buttonEl =\n",
              "        document.querySelector('#df-4ee6c910-73ec-43a6-95f2-bec46a0b407e button.colab-df-convert');\n",
              "      buttonEl.style.display =\n",
              "        google.colab.kernel.accessAllowed ? 'block' : 'none';\n",
              "\n",
              "      async function convertToInteractive(key) {\n",
              "        const element = document.querySelector('#df-4ee6c910-73ec-43a6-95f2-bec46a0b407e');\n",
              "        const dataTable =\n",
              "          await google.colab.kernel.invokeFunction('convertToInteractive',\n",
              "                                                    [key], {});\n",
              "        if (!dataTable) return;\n",
              "\n",
              "        const docLinkHtml = 'Like what you see? Visit the ' +\n",
              "          '<a target=\"_blank\" href=https://colab.research.google.com/notebooks/data_table.ipynb>data table notebook</a>'\n",
              "          + ' to learn more about interactive tables.';\n",
              "        element.innerHTML = '';\n",
              "        dataTable['output_type'] = 'display_data';\n",
              "        await google.colab.output.renderOutput(dataTable, element);\n",
              "        const docLink = document.createElement('div');\n",
              "        docLink.innerHTML = docLinkHtml;\n",
              "        element.appendChild(docLink);\n",
              "      }\n",
              "    </script>\n",
              "  </div>\n",
              "\n",
              "\n",
              "<div id=\"df-1ab66ceb-ffe7-4e1d-b1ea-8b2d87597941\">\n",
              "  <button class=\"colab-df-quickchart\" onclick=\"quickchart('df-1ab66ceb-ffe7-4e1d-b1ea-8b2d87597941')\"\n",
              "            title=\"Suggest charts\"\n",
              "            style=\"display:none;\">\n",
              "\n",
              "<svg xmlns=\"http://www.w3.org/2000/svg\" height=\"24px\"viewBox=\"0 0 24 24\"\n",
              "     width=\"24px\">\n",
              "    <g>\n",
              "        <path d=\"M19 3H5c-1.1 0-2 .9-2 2v14c0 1.1.9 2 2 2h14c1.1 0 2-.9 2-2V5c0-1.1-.9-2-2-2zM9 17H7v-7h2v7zm4 0h-2V7h2v10zm4 0h-2v-4h2v4z\"/>\n",
              "    </g>\n",
              "</svg>\n",
              "  </button>\n",
              "\n",
              "<style>\n",
              "  .colab-df-quickchart {\n",
              "      --bg-color: #E8F0FE;\n",
              "      --fill-color: #1967D2;\n",
              "      --hover-bg-color: #E2EBFA;\n",
              "      --hover-fill-color: #174EA6;\n",
              "      --disabled-fill-color: #AAA;\n",
              "      --disabled-bg-color: #DDD;\n",
              "  }\n",
              "\n",
              "  [theme=dark] .colab-df-quickchart {\n",
              "      --bg-color: #3B4455;\n",
              "      --fill-color: #D2E3FC;\n",
              "      --hover-bg-color: #434B5C;\n",
              "      --hover-fill-color: #FFFFFF;\n",
              "      --disabled-bg-color: #3B4455;\n",
              "      --disabled-fill-color: #666;\n",
              "  }\n",
              "\n",
              "  .colab-df-quickchart {\n",
              "    background-color: var(--bg-color);\n",
              "    border: none;\n",
              "    border-radius: 50%;\n",
              "    cursor: pointer;\n",
              "    display: none;\n",
              "    fill: var(--fill-color);\n",
              "    height: 32px;\n",
              "    padding: 0;\n",
              "    width: 32px;\n",
              "  }\n",
              "\n",
              "  .colab-df-quickchart:hover {\n",
              "    background-color: var(--hover-bg-color);\n",
              "    box-shadow: 0 1px 2px rgba(60, 64, 67, 0.3), 0 1px 3px 1px rgba(60, 64, 67, 0.15);\n",
              "    fill: var(--button-hover-fill-color);\n",
              "  }\n",
              "\n",
              "  .colab-df-quickchart-complete:disabled,\n",
              "  .colab-df-quickchart-complete:disabled:hover {\n",
              "    background-color: var(--disabled-bg-color);\n",
              "    fill: var(--disabled-fill-color);\n",
              "    box-shadow: none;\n",
              "  }\n",
              "\n",
              "  .colab-df-spinner {\n",
              "    border: 2px solid var(--fill-color);\n",
              "    border-color: transparent;\n",
              "    border-bottom-color: var(--fill-color);\n",
              "    animation:\n",
              "      spin 1s steps(1) infinite;\n",
              "  }\n",
              "\n",
              "  @keyframes spin {\n",
              "    0% {\n",
              "      border-color: transparent;\n",
              "      border-bottom-color: var(--fill-color);\n",
              "      border-left-color: var(--fill-color);\n",
              "    }\n",
              "    20% {\n",
              "      border-color: transparent;\n",
              "      border-left-color: var(--fill-color);\n",
              "      border-top-color: var(--fill-color);\n",
              "    }\n",
              "    30% {\n",
              "      border-color: transparent;\n",
              "      border-left-color: var(--fill-color);\n",
              "      border-top-color: var(--fill-color);\n",
              "      border-right-color: var(--fill-color);\n",
              "    }\n",
              "    40% {\n",
              "      border-color: transparent;\n",
              "      border-right-color: var(--fill-color);\n",
              "      border-top-color: var(--fill-color);\n",
              "    }\n",
              "    60% {\n",
              "      border-color: transparent;\n",
              "      border-right-color: var(--fill-color);\n",
              "    }\n",
              "    80% {\n",
              "      border-color: transparent;\n",
              "      border-right-color: var(--fill-color);\n",
              "      border-bottom-color: var(--fill-color);\n",
              "    }\n",
              "    90% {\n",
              "      border-color: transparent;\n",
              "      border-bottom-color: var(--fill-color);\n",
              "    }\n",
              "  }\n",
              "</style>\n",
              "\n",
              "  <script>\n",
              "    async function quickchart(key) {\n",
              "      const quickchartButtonEl =\n",
              "        document.querySelector('#' + key + ' button');\n",
              "      quickchartButtonEl.disabled = true;  // To prevent multiple clicks.\n",
              "      quickchartButtonEl.classList.add('colab-df-spinner');\n",
              "      try {\n",
              "        const charts = await google.colab.kernel.invokeFunction(\n",
              "            'suggestCharts', [key], {});\n",
              "      } catch (error) {\n",
              "        console.error('Error during call to suggestCharts:', error);\n",
              "      }\n",
              "      quickchartButtonEl.classList.remove('colab-df-spinner');\n",
              "      quickchartButtonEl.classList.add('colab-df-quickchart-complete');\n",
              "    }\n",
              "    (() => {\n",
              "      let quickchartButtonEl =\n",
              "        document.querySelector('#df-1ab66ceb-ffe7-4e1d-b1ea-8b2d87597941 button');\n",
              "      quickchartButtonEl.style.display =\n",
              "        google.colab.kernel.accessAllowed ? 'block' : 'none';\n",
              "    })();\n",
              "  </script>\n",
              "</div>\n",
              "\n",
              "    </div>\n",
              "  </div>\n"
            ],
            "application/vnd.google.colaboratory.intrinsic+json": {
              "type": "dataframe",
              "variable_name": "dados_com_dummies"
            }
          },
          "metadata": {},
          "execution_count": 17
        }
      ]
    },
    {
      "cell_type": "markdown",
      "source": [
        "Uma simplificação pertinente será dividir em apenas duas classes: aqueles que possuem doença cardíaca (1 ao 4) e os que não possuem."
      ],
      "metadata": {
        "id": "-lEnFSV436Ru"
      }
    },
    {
      "cell_type": "code",
      "source": [
        "dados_com_dummies['num'] = dados_com_dummies['num'].apply(lambda num: 1 if num > 0 else 0)\n",
        "dados_com_dummies['num'].unique()"
      ],
      "metadata": {
        "colab": {
          "base_uri": "https://localhost:8080/"
        },
        "id": "HGhoBFcnrOQB",
        "outputId": "1c025276-c37d-4e32-c7a2-8a7f33095282"
      },
      "execution_count": 18,
      "outputs": [
        {
          "output_type": "execute_result",
          "data": {
            "text/plain": [
              "array([0, 1])"
            ]
          },
          "metadata": {},
          "execution_count": 18
        }
      ]
    },
    {
      "cell_type": "code",
      "source": [
        "dados_com_dummies.shape"
      ],
      "metadata": {
        "colab": {
          "base_uri": "https://localhost:8080/"
        },
        "id": "mxBC8o-3mtLG",
        "outputId": "4e4099e0-67ec-4b0d-e21c-5a2ce15c17c8"
      },
      "execution_count": 19,
      "outputs": [
        {
          "output_type": "execute_result",
          "data": {
            "text/plain": [
              "(303, 26)"
            ]
          },
          "metadata": {},
          "execution_count": 19
        }
      ]
    },
    {
      "cell_type": "markdown",
      "source": [
        "## Criação do modelo"
      ],
      "metadata": {
        "id": "a_FKceeA4KdD"
      }
    },
    {
      "cell_type": "code",
      "source": [
        "seed = 42"
      ],
      "metadata": {
        "id": "xGsf_p8gXB_C"
      },
      "execution_count": 20,
      "outputs": []
    },
    {
      "cell_type": "markdown",
      "source": [
        "Transformaremos a variável alvo em um array de 2 elementos que informa a probabilidade de ter ou não ter a doença."
      ],
      "metadata": {
        "id": "TiWw9xEq4M50"
      }
    },
    {
      "cell_type": "code",
      "source": [
        "y = dados_com_dummies['num']\n",
        "y = keras.utils.to_categorical(y)"
      ],
      "metadata": {
        "id": "d7HcSI8ra7xi"
      },
      "execution_count": 21,
      "outputs": []
    },
    {
      "cell_type": "markdown",
      "source": [
        "Os dados serão normalizados, isto é, serão escalados para um valor entre 0 e 1, dessa forma os valores com diferentes escalas não atrapalharão o modelo"
      ],
      "metadata": {
        "id": "6Xlfnu_142uJ"
      }
    },
    {
      "cell_type": "code",
      "source": [
        "from sklearn.preprocessing import MinMaxScaler\n",
        "\n",
        "escalador = MinMaxScaler()\n",
        "X = dados_com_dummies.drop('num', axis = 1)\n",
        "X = escalador.fit_transform(X)"
      ],
      "metadata": {
        "id": "8onn0bE-aodc"
      },
      "execution_count": 22,
      "outputs": []
    },
    {
      "cell_type": "markdown",
      "source": [
        "Divide-se o conjunto de dados em treino e teste"
      ],
      "metadata": {
        "id": "zRmraHX65YEs"
      }
    },
    {
      "cell_type": "code",
      "source": [
        "from sklearn.model_selection import train_test_split\n",
        "\n",
        "X_treino, X_teste, y_treino, y_teste = train_test_split(X, y, test_size = 0.2, stratify = y, random_state=seed)"
      ],
      "metadata": {
        "id": "UPHHiBSTbThc"
      },
      "execution_count": 23,
      "outputs": []
    },
    {
      "cell_type": "markdown",
      "source": [
        "O modelo criado possuirá um número de neurônios de entradas igual ao número de características e o número de neurônios de saída igual ao número de classes. O número de neurônios na camada oculta foi encontrado treinando com diferentes valores e constatando qual possui as melhores métricas"
      ],
      "metadata": {
        "id": "2Er1br9w5bQQ"
      }
    },
    {
      "cell_type": "code",
      "source": [
        "n_entrada = X.shape[1]\n",
        "n_oculta = 50\n",
        "n_saida = y.shape[1]"
      ],
      "metadata": {
        "id": "W9EcQD_JxyDT"
      },
      "execution_count": 24,
      "outputs": []
    },
    {
      "cell_type": "markdown",
      "source": [
        "O MLP será do tipo sequencial, com uma camada de entrada, uma camada oculta e uma camada de saída"
      ],
      "metadata": {
        "id": "ijQNpy4S5wb8"
      }
    },
    {
      "cell_type": "code",
      "source": [
        "modelo = keras.Sequential([\n",
        "    keras.layers.InputLayer(input_shape=[n_entrada, ], name = 'entrada'),\n",
        "    keras.layers.Dense(n_oculta, activation = 'relu', name = 'oculta', kernel_initializer=keras.initializers.RandomNormal(seed=seed)),\n",
        "    keras.layers.Dense(n_saida, activation = 'sigmoid', name = 'saida')\n",
        "])"
      ],
      "metadata": {
        "id": "jvU7GmyQxXSp"
      },
      "execution_count": 25,
      "outputs": []
    },
    {
      "cell_type": "markdown",
      "source": [
        "As métricas relevantes são a acurácia, precisão e recall (sensibilidade). O algoritmo de otimização é o popular ADAM que combina o gradiente descendente estocástico com ideis de outros algoritmos como Momentum e RMSProp. A função de perda é a entropia cruzada, que dá uma medida comparativa da distribuição de probabilidade prevista e real dos rótulos."
      ],
      "metadata": {
        "id": "5t0Cn7-t52SV"
      }
    },
    {
      "cell_type": "code",
      "source": [
        "from keras.metrics import Precision, Recall\n",
        "\n",
        "modelo.compile(\n",
        "    loss = 'categorical_crossentropy',\n",
        "    optimizer = 'adam',\n",
        "    metrics = ['categorical_accuracy', Precision(), Recall()]\n",
        ")"
      ],
      "metadata": {
        "id": "Cvc78S2ytizH"
      },
      "execution_count": 26,
      "outputs": []
    },
    {
      "cell_type": "markdown",
      "source": [
        "Realiza-se o treino com 100 épocas"
      ],
      "metadata": {
        "id": "oK4edeRG57VA"
      }
    },
    {
      "cell_type": "code",
      "source": [
        "epocas = 100\n",
        "historico = modelo.fit(X_treino, y_treino, epochs = epocas, validation_split = 0.3)"
      ],
      "metadata": {
        "colab": {
          "base_uri": "https://localhost:8080/"
        },
        "id": "UtJqt7eHt2uy",
        "outputId": "dff63c43-884f-436e-b857-a90105dd0f8f"
      },
      "execution_count": 27,
      "outputs": [
        {
          "output_type": "stream",
          "name": "stdout",
          "text": [
            "Epoch 1/100\n",
            "6/6 [==============================] - 1s 66ms/step - loss: 0.6763 - categorical_accuracy: 0.5680 - precision: 0.5421 - recall: 0.6095 - val_loss: 0.6302 - val_categorical_accuracy: 0.7397 - val_precision: 0.6829 - val_recall: 0.7671\n",
            "Epoch 2/100\n",
            "6/6 [==============================] - 0s 9ms/step - loss: 0.6208 - categorical_accuracy: 0.7456 - precision: 0.6684 - recall: 0.7396 - val_loss: 0.5829 - val_categorical_accuracy: 0.8219 - val_precision: 0.7619 - val_recall: 0.8767\n",
            "Epoch 3/100\n",
            "6/6 [==============================] - 0s 11ms/step - loss: 0.5745 - categorical_accuracy: 0.7929 - precision: 0.7296 - recall: 0.8462 - val_loss: 0.5446 - val_categorical_accuracy: 0.8493 - val_precision: 0.7952 - val_recall: 0.9041\n",
            "Epoch 4/100\n",
            "6/6 [==============================] - 0s 8ms/step - loss: 0.5386 - categorical_accuracy: 0.8107 - precision: 0.7487 - recall: 0.8639 - val_loss: 0.5091 - val_categorical_accuracy: 0.8630 - val_precision: 0.7976 - val_recall: 0.9178\n",
            "Epoch 5/100\n",
            "6/6 [==============================] - 0s 11ms/step - loss: 0.5042 - categorical_accuracy: 0.8225 - precision: 0.7778 - recall: 0.8698 - val_loss: 0.4791 - val_categorical_accuracy: 0.8767 - val_precision: 0.8072 - val_recall: 0.9178\n",
            "Epoch 6/100\n",
            "6/6 [==============================] - 0s 9ms/step - loss: 0.4801 - categorical_accuracy: 0.8225 - precision: 0.7861 - recall: 0.8698 - val_loss: 0.4515 - val_categorical_accuracy: 0.8767 - val_precision: 0.8171 - val_recall: 0.9178\n",
            "Epoch 7/100\n",
            "6/6 [==============================] - 0s 11ms/step - loss: 0.4573 - categorical_accuracy: 0.8166 - precision: 0.7826 - recall: 0.8521 - val_loss: 0.4322 - val_categorical_accuracy: 0.8904 - val_precision: 0.8193 - val_recall: 0.9315\n",
            "Epoch 8/100\n",
            "6/6 [==============================] - 0s 12ms/step - loss: 0.4390 - categorical_accuracy: 0.8225 - precision: 0.7978 - recall: 0.8639 - val_loss: 0.4141 - val_categorical_accuracy: 0.8904 - val_precision: 0.8095 - val_recall: 0.9315\n",
            "Epoch 9/100\n",
            "6/6 [==============================] - 0s 11ms/step - loss: 0.4226 - categorical_accuracy: 0.8284 - precision: 0.7978 - recall: 0.8639 - val_loss: 0.3983 - val_categorical_accuracy: 0.8904 - val_precision: 0.8193 - val_recall: 0.9315\n",
            "Epoch 10/100\n",
            "6/6 [==============================] - 0s 8ms/step - loss: 0.4115 - categorical_accuracy: 0.8284 - precision: 0.7978 - recall: 0.8639 - val_loss: 0.3856 - val_categorical_accuracy: 0.8904 - val_precision: 0.8193 - val_recall: 0.9315\n",
            "Epoch 11/100\n",
            "6/6 [==============================] - 0s 11ms/step - loss: 0.4030 - categorical_accuracy: 0.8343 - precision: 0.8022 - recall: 0.8639 - val_loss: 0.3776 - val_categorical_accuracy: 0.8630 - val_precision: 0.8171 - val_recall: 0.9178\n",
            "Epoch 12/100\n",
            "6/6 [==============================] - 0s 9ms/step - loss: 0.3963 - categorical_accuracy: 0.8343 - precision: 0.8156 - recall: 0.8639 - val_loss: 0.3743 - val_categorical_accuracy: 0.8493 - val_precision: 0.8171 - val_recall: 0.9178\n",
            "Epoch 13/100\n",
            "6/6 [==============================] - 0s 9ms/step - loss: 0.3921 - categorical_accuracy: 0.8343 - precision: 0.8136 - recall: 0.8521 - val_loss: 0.3779 - val_categorical_accuracy: 0.8493 - val_precision: 0.8228 - val_recall: 0.8904\n",
            "Epoch 14/100\n",
            "6/6 [==============================] - 0s 12ms/step - loss: 0.3885 - categorical_accuracy: 0.8402 - precision: 0.8090 - recall: 0.8521 - val_loss: 0.3711 - val_categorical_accuracy: 0.8493 - val_precision: 0.8049 - val_recall: 0.9041\n",
            "Epoch 15/100\n",
            "6/6 [==============================] - 0s 8ms/step - loss: 0.3816 - categorical_accuracy: 0.8402 - precision: 0.8192 - recall: 0.8580 - val_loss: 0.3578 - val_categorical_accuracy: 0.8630 - val_precision: 0.8072 - val_recall: 0.9178\n",
            "Epoch 16/100\n",
            "6/6 [==============================] - 0s 9ms/step - loss: 0.3786 - categorical_accuracy: 0.8402 - precision: 0.8156 - recall: 0.8639 - val_loss: 0.3535 - val_categorical_accuracy: 0.8630 - val_precision: 0.8072 - val_recall: 0.9178\n",
            "Epoch 17/100\n",
            "6/6 [==============================] - 0s 9ms/step - loss: 0.3750 - categorical_accuracy: 0.8462 - precision: 0.8146 - recall: 0.8580 - val_loss: 0.3584 - val_categorical_accuracy: 0.8630 - val_precision: 0.7976 - val_recall: 0.9178\n",
            "Epoch 18/100\n",
            "6/6 [==============================] - 0s 9ms/step - loss: 0.3723 - categorical_accuracy: 0.8462 - precision: 0.8239 - recall: 0.8580 - val_loss: 0.3639 - val_categorical_accuracy: 0.8356 - val_precision: 0.7927 - val_recall: 0.8904\n",
            "Epoch 19/100\n",
            "6/6 [==============================] - 0s 12ms/step - loss: 0.3701 - categorical_accuracy: 0.8462 - precision: 0.8333 - recall: 0.8580 - val_loss: 0.3654 - val_categorical_accuracy: 0.8356 - val_precision: 0.8025 - val_recall: 0.8904\n",
            "Epoch 20/100\n",
            "6/6 [==============================] - 0s 11ms/step - loss: 0.3682 - categorical_accuracy: 0.8462 - precision: 0.8391 - recall: 0.8639 - val_loss: 0.3666 - val_categorical_accuracy: 0.8219 - val_precision: 0.8025 - val_recall: 0.8904\n",
            "Epoch 21/100\n",
            "6/6 [==============================] - 0s 12ms/step - loss: 0.3663 - categorical_accuracy: 0.8462 - precision: 0.8391 - recall: 0.8639 - val_loss: 0.3625 - val_categorical_accuracy: 0.8493 - val_precision: 0.7927 - val_recall: 0.8904\n",
            "Epoch 22/100\n",
            "6/6 [==============================] - 0s 9ms/step - loss: 0.3635 - categorical_accuracy: 0.8462 - precision: 0.8391 - recall: 0.8639 - val_loss: 0.3604 - val_categorical_accuracy: 0.8493 - val_precision: 0.7927 - val_recall: 0.8904\n",
            "Epoch 23/100\n",
            "6/6 [==============================] - 0s 9ms/step - loss: 0.3612 - categorical_accuracy: 0.8462 - precision: 0.8333 - recall: 0.8580 - val_loss: 0.3572 - val_categorical_accuracy: 0.8493 - val_precision: 0.7927 - val_recall: 0.8904\n",
            "Epoch 24/100\n",
            "6/6 [==============================] - 0s 11ms/step - loss: 0.3607 - categorical_accuracy: 0.8402 - precision: 0.8286 - recall: 0.8580 - val_loss: 0.3557 - val_categorical_accuracy: 0.8493 - val_precision: 0.7952 - val_recall: 0.9041\n",
            "Epoch 25/100\n",
            "6/6 [==============================] - 0s 11ms/step - loss: 0.3579 - categorical_accuracy: 0.8462 - precision: 0.8333 - recall: 0.8580 - val_loss: 0.3607 - val_categorical_accuracy: 0.8493 - val_precision: 0.7952 - val_recall: 0.9041\n",
            "Epoch 26/100\n",
            "6/6 [==============================] - 0s 11ms/step - loss: 0.3572 - categorical_accuracy: 0.8462 - precision: 0.8391 - recall: 0.8639 - val_loss: 0.3641 - val_categorical_accuracy: 0.8219 - val_precision: 0.7927 - val_recall: 0.8904\n",
            "Epoch 27/100\n",
            "6/6 [==============================] - 0s 11ms/step - loss: 0.3549 - categorical_accuracy: 0.8462 - precision: 0.8400 - recall: 0.8698 - val_loss: 0.3611 - val_categorical_accuracy: 0.8493 - val_precision: 0.7952 - val_recall: 0.9041\n",
            "Epoch 28/100\n",
            "6/6 [==============================] - 0s 12ms/step - loss: 0.3531 - categorical_accuracy: 0.8462 - precision: 0.8400 - recall: 0.8698 - val_loss: 0.3569 - val_categorical_accuracy: 0.8493 - val_precision: 0.7952 - val_recall: 0.9041\n",
            "Epoch 29/100\n",
            "6/6 [==============================] - 0s 11ms/step - loss: 0.3540 - categorical_accuracy: 0.8462 - precision: 0.8286 - recall: 0.8580 - val_loss: 0.3538 - val_categorical_accuracy: 0.8356 - val_precision: 0.8049 - val_recall: 0.9041\n",
            "Epoch 30/100\n",
            "6/6 [==============================] - 0s 11ms/step - loss: 0.3518 - categorical_accuracy: 0.8462 - precision: 0.8352 - recall: 0.8698 - val_loss: 0.3641 - val_categorical_accuracy: 0.8219 - val_precision: 0.7927 - val_recall: 0.8904\n",
            "Epoch 31/100\n",
            "6/6 [==============================] - 0s 11ms/step - loss: 0.3487 - categorical_accuracy: 0.8639 - precision: 0.8506 - recall: 0.8757 - val_loss: 0.3690 - val_categorical_accuracy: 0.8219 - val_precision: 0.8125 - val_recall: 0.8904\n",
            "Epoch 32/100\n",
            "6/6 [==============================] - 0s 11ms/step - loss: 0.3493 - categorical_accuracy: 0.8639 - precision: 0.8506 - recall: 0.8757 - val_loss: 0.3722 - val_categorical_accuracy: 0.8219 - val_precision: 0.8052 - val_recall: 0.8493\n",
            "Epoch 33/100\n",
            "6/6 [==============================] - 0s 11ms/step - loss: 0.3475 - categorical_accuracy: 0.8639 - precision: 0.8497 - recall: 0.8698 - val_loss: 0.3639 - val_categorical_accuracy: 0.8219 - val_precision: 0.7927 - val_recall: 0.8904\n",
            "Epoch 34/100\n",
            "6/6 [==============================] - 0s 11ms/step - loss: 0.3449 - categorical_accuracy: 0.8580 - precision: 0.8506 - recall: 0.8757 - val_loss: 0.3615 - val_categorical_accuracy: 0.8356 - val_precision: 0.7927 - val_recall: 0.8904\n",
            "Epoch 35/100\n",
            "6/6 [==============================] - 0s 12ms/step - loss: 0.3431 - categorical_accuracy: 0.8521 - precision: 0.8400 - recall: 0.8698 - val_loss: 0.3557 - val_categorical_accuracy: 0.8356 - val_precision: 0.8049 - val_recall: 0.9041\n",
            "Epoch 36/100\n",
            "6/6 [==============================] - 0s 12ms/step - loss: 0.3418 - categorical_accuracy: 0.8521 - precision: 0.8400 - recall: 0.8698 - val_loss: 0.3560 - val_categorical_accuracy: 0.8356 - val_precision: 0.8025 - val_recall: 0.8904\n",
            "Epoch 37/100\n",
            "6/6 [==============================] - 0s 11ms/step - loss: 0.3403 - categorical_accuracy: 0.8580 - precision: 0.8400 - recall: 0.8698 - val_loss: 0.3583 - val_categorical_accuracy: 0.8356 - val_precision: 0.7927 - val_recall: 0.8904\n",
            "Epoch 38/100\n",
            "6/6 [==============================] - 0s 9ms/step - loss: 0.3390 - categorical_accuracy: 0.8521 - precision: 0.8457 - recall: 0.8757 - val_loss: 0.3616 - val_categorical_accuracy: 0.8356 - val_precision: 0.8000 - val_recall: 0.8767\n",
            "Epoch 39/100\n",
            "6/6 [==============================] - 0s 11ms/step - loss: 0.3375 - categorical_accuracy: 0.8639 - precision: 0.8506 - recall: 0.8757 - val_loss: 0.3669 - val_categorical_accuracy: 0.8219 - val_precision: 0.7975 - val_recall: 0.8630\n",
            "Epoch 40/100\n",
            "6/6 [==============================] - 0s 8ms/step - loss: 0.3366 - categorical_accuracy: 0.8639 - precision: 0.8555 - recall: 0.8757 - val_loss: 0.3661 - val_categorical_accuracy: 0.8356 - val_precision: 0.7975 - val_recall: 0.8630\n",
            "Epoch 41/100\n",
            "6/6 [==============================] - 0s 9ms/step - loss: 0.3347 - categorical_accuracy: 0.8698 - precision: 0.8506 - recall: 0.8757 - val_loss: 0.3648 - val_categorical_accuracy: 0.8219 - val_precision: 0.8077 - val_recall: 0.8630\n",
            "Epoch 42/100\n",
            "6/6 [==============================] - 0s 9ms/step - loss: 0.3341 - categorical_accuracy: 0.8698 - precision: 0.8466 - recall: 0.8817 - val_loss: 0.3632 - val_categorical_accuracy: 0.8219 - val_precision: 0.8101 - val_recall: 0.8767\n",
            "Epoch 43/100\n",
            "6/6 [==============================] - 0s 8ms/step - loss: 0.3349 - categorical_accuracy: 0.8698 - precision: 0.8506 - recall: 0.8757 - val_loss: 0.3683 - val_categorical_accuracy: 0.8356 - val_precision: 0.8101 - val_recall: 0.8767\n",
            "Epoch 44/100\n",
            "6/6 [==============================] - 0s 8ms/step - loss: 0.3299 - categorical_accuracy: 0.8698 - precision: 0.8466 - recall: 0.8817 - val_loss: 0.3571 - val_categorical_accuracy: 0.8356 - val_precision: 0.8125 - val_recall: 0.8904\n",
            "Epoch 45/100\n",
            "6/6 [==============================] - 0s 8ms/step - loss: 0.3300 - categorical_accuracy: 0.8521 - precision: 0.8371 - recall: 0.8817 - val_loss: 0.3525 - val_categorical_accuracy: 0.8493 - val_precision: 0.8000 - val_recall: 0.8767\n",
            "Epoch 46/100\n",
            "6/6 [==============================] - 0s 8ms/step - loss: 0.3298 - categorical_accuracy: 0.8580 - precision: 0.8418 - recall: 0.8817 - val_loss: 0.3536 - val_categorical_accuracy: 0.8493 - val_precision: 0.8077 - val_recall: 0.8630\n",
            "Epoch 47/100\n",
            "6/6 [==============================] - 0s 11ms/step - loss: 0.3283 - categorical_accuracy: 0.8580 - precision: 0.8418 - recall: 0.8817 - val_loss: 0.3561 - val_categorical_accuracy: 0.8493 - val_precision: 0.8182 - val_recall: 0.8630\n",
            "Epoch 48/100\n",
            "6/6 [==============================] - 0s 12ms/step - loss: 0.3269 - categorical_accuracy: 0.8580 - precision: 0.8466 - recall: 0.8817 - val_loss: 0.3557 - val_categorical_accuracy: 0.8493 - val_precision: 0.8077 - val_recall: 0.8630\n",
            "Epoch 49/100\n",
            "6/6 [==============================] - 0s 11ms/step - loss: 0.3272 - categorical_accuracy: 0.8698 - precision: 0.8466 - recall: 0.8817 - val_loss: 0.3546 - val_categorical_accuracy: 0.8493 - val_precision: 0.8101 - val_recall: 0.8767\n",
            "Epoch 50/100\n",
            "6/6 [==============================] - 0s 8ms/step - loss: 0.3244 - categorical_accuracy: 0.8698 - precision: 0.8514 - recall: 0.8817 - val_loss: 0.3594 - val_categorical_accuracy: 0.8356 - val_precision: 0.8205 - val_recall: 0.8767\n",
            "Epoch 51/100\n",
            "6/6 [==============================] - 0s 11ms/step - loss: 0.3252 - categorical_accuracy: 0.8639 - precision: 0.8563 - recall: 0.8817 - val_loss: 0.3708 - val_categorical_accuracy: 0.8082 - val_precision: 0.8101 - val_recall: 0.8767\n",
            "Epoch 52/100\n",
            "6/6 [==============================] - 0s 8ms/step - loss: 0.3209 - categorical_accuracy: 0.8698 - precision: 0.8613 - recall: 0.8817 - val_loss: 0.3683 - val_categorical_accuracy: 0.8356 - val_precision: 0.8182 - val_recall: 0.8630\n",
            "Epoch 53/100\n",
            "6/6 [==============================] - 0s 8ms/step - loss: 0.3187 - categorical_accuracy: 0.8757 - precision: 0.8621 - recall: 0.8876 - val_loss: 0.3623 - val_categorical_accuracy: 0.8356 - val_precision: 0.8052 - val_recall: 0.8493\n",
            "Epoch 54/100\n",
            "6/6 [==============================] - 0s 13ms/step - loss: 0.3182 - categorical_accuracy: 0.8698 - precision: 0.8629 - recall: 0.8935 - val_loss: 0.3591 - val_categorical_accuracy: 0.8493 - val_precision: 0.8077 - val_recall: 0.8630\n",
            "Epoch 55/100\n",
            "6/6 [==============================] - 0s 12ms/step - loss: 0.3178 - categorical_accuracy: 0.8757 - precision: 0.8580 - recall: 0.8935 - val_loss: 0.3570 - val_categorical_accuracy: 0.8493 - val_precision: 0.8182 - val_recall: 0.8630\n",
            "Epoch 56/100\n",
            "6/6 [==============================] - 0s 9ms/step - loss: 0.3156 - categorical_accuracy: 0.8698 - precision: 0.8571 - recall: 0.8876 - val_loss: 0.3607 - val_categorical_accuracy: 0.8356 - val_precision: 0.8077 - val_recall: 0.8630\n",
            "Epoch 57/100\n",
            "6/6 [==============================] - 0s 11ms/step - loss: 0.3148 - categorical_accuracy: 0.8757 - precision: 0.8621 - recall: 0.8876 - val_loss: 0.3631 - val_categorical_accuracy: 0.8356 - val_precision: 0.8077 - val_recall: 0.8630\n",
            "Epoch 58/100\n",
            "6/6 [==============================] - 0s 9ms/step - loss: 0.3135 - categorical_accuracy: 0.8757 - precision: 0.8671 - recall: 0.8876 - val_loss: 0.3594 - val_categorical_accuracy: 0.8356 - val_precision: 0.8101 - val_recall: 0.8767\n",
            "Epoch 59/100\n",
            "6/6 [==============================] - 0s 11ms/step - loss: 0.3115 - categorical_accuracy: 0.8817 - precision: 0.8629 - recall: 0.8935 - val_loss: 0.3608 - val_categorical_accuracy: 0.8356 - val_precision: 0.8101 - val_recall: 0.8767\n",
            "Epoch 60/100\n",
            "6/6 [==============================] - 0s 8ms/step - loss: 0.3104 - categorical_accuracy: 0.8757 - precision: 0.8629 - recall: 0.8935 - val_loss: 0.3587 - val_categorical_accuracy: 0.8493 - val_precision: 0.8182 - val_recall: 0.8630\n",
            "Epoch 61/100\n",
            "6/6 [==============================] - 0s 9ms/step - loss: 0.3099 - categorical_accuracy: 0.8817 - precision: 0.8621 - recall: 0.8876 - val_loss: 0.3670 - val_categorical_accuracy: 0.8356 - val_precision: 0.8182 - val_recall: 0.8630\n",
            "Epoch 62/100\n",
            "6/6 [==============================] - 0s 8ms/step - loss: 0.3091 - categorical_accuracy: 0.8817 - precision: 0.8772 - recall: 0.8876 - val_loss: 0.3708 - val_categorical_accuracy: 0.8356 - val_precision: 0.8052 - val_recall: 0.8493\n",
            "Epoch 63/100\n",
            "6/6 [==============================] - 0s 11ms/step - loss: 0.3073 - categorical_accuracy: 0.8817 - precision: 0.8824 - recall: 0.8876 - val_loss: 0.3683 - val_categorical_accuracy: 0.8356 - val_precision: 0.8182 - val_recall: 0.8630\n",
            "Epoch 64/100\n",
            "6/6 [==============================] - 0s 8ms/step - loss: 0.3044 - categorical_accuracy: 0.8876 - precision: 0.8728 - recall: 0.8935 - val_loss: 0.3609 - val_categorical_accuracy: 0.8356 - val_precision: 0.8289 - val_recall: 0.8630\n",
            "Epoch 65/100\n",
            "6/6 [==============================] - 0s 9ms/step - loss: 0.3035 - categorical_accuracy: 0.8817 - precision: 0.8686 - recall: 0.8994 - val_loss: 0.3580 - val_categorical_accuracy: 0.8493 - val_precision: 0.8312 - val_recall: 0.8767\n",
            "Epoch 66/100\n",
            "6/6 [==============================] - 0s 11ms/step - loss: 0.3031 - categorical_accuracy: 0.8876 - precision: 0.8686 - recall: 0.8994 - val_loss: 0.3645 - val_categorical_accuracy: 0.8356 - val_precision: 0.8400 - val_recall: 0.8630\n",
            "Epoch 67/100\n",
            "6/6 [==============================] - 0s 11ms/step - loss: 0.3016 - categorical_accuracy: 0.8876 - precision: 0.8736 - recall: 0.8994 - val_loss: 0.3659 - val_categorical_accuracy: 0.8356 - val_precision: 0.8289 - val_recall: 0.8630\n",
            "Epoch 68/100\n",
            "6/6 [==============================] - 0s 9ms/step - loss: 0.3001 - categorical_accuracy: 0.8876 - precision: 0.8686 - recall: 0.8994 - val_loss: 0.3642 - val_categorical_accuracy: 0.8356 - val_precision: 0.8400 - val_recall: 0.8630\n",
            "Epoch 69/100\n",
            "6/6 [==============================] - 0s 11ms/step - loss: 0.2983 - categorical_accuracy: 0.8876 - precision: 0.8686 - recall: 0.8994 - val_loss: 0.3620 - val_categorical_accuracy: 0.8356 - val_precision: 0.8289 - val_recall: 0.8630\n",
            "Epoch 70/100\n",
            "6/6 [==============================] - 0s 12ms/step - loss: 0.2971 - categorical_accuracy: 0.8817 - precision: 0.8693 - recall: 0.9053 - val_loss: 0.3554 - val_categorical_accuracy: 0.8493 - val_precision: 0.8289 - val_recall: 0.8630\n",
            "Epoch 71/100\n",
            "6/6 [==============================] - 0s 12ms/step - loss: 0.2975 - categorical_accuracy: 0.8698 - precision: 0.8686 - recall: 0.8994 - val_loss: 0.3531 - val_categorical_accuracy: 0.8493 - val_precision: 0.8289 - val_recall: 0.8630\n",
            "Epoch 72/100\n",
            "6/6 [==============================] - 0s 12ms/step - loss: 0.2971 - categorical_accuracy: 0.8698 - precision: 0.8743 - recall: 0.9053 - val_loss: 0.3542 - val_categorical_accuracy: 0.8493 - val_precision: 0.8289 - val_recall: 0.8630\n",
            "Epoch 73/100\n",
            "6/6 [==============================] - 0s 8ms/step - loss: 0.2937 - categorical_accuracy: 0.8876 - precision: 0.8743 - recall: 0.9053 - val_loss: 0.3599 - val_categorical_accuracy: 0.8493 - val_precision: 0.8289 - val_recall: 0.8630\n",
            "Epoch 74/100\n",
            "6/6 [==============================] - 0s 11ms/step - loss: 0.2927 - categorical_accuracy: 0.8935 - precision: 0.8693 - recall: 0.9053 - val_loss: 0.3615 - val_categorical_accuracy: 0.8356 - val_precision: 0.8182 - val_recall: 0.8630\n",
            "Epoch 75/100\n",
            "6/6 [==============================] - 0s 12ms/step - loss: 0.2917 - categorical_accuracy: 0.8876 - precision: 0.8693 - recall: 0.9053 - val_loss: 0.3602 - val_categorical_accuracy: 0.8493 - val_precision: 0.8267 - val_recall: 0.8493\n",
            "Epoch 76/100\n",
            "6/6 [==============================] - 0s 9ms/step - loss: 0.2912 - categorical_accuracy: 0.8935 - precision: 0.8693 - recall: 0.9053 - val_loss: 0.3639 - val_categorical_accuracy: 0.8356 - val_precision: 0.8400 - val_recall: 0.8630\n",
            "Epoch 77/100\n",
            "6/6 [==============================] - 0s 11ms/step - loss: 0.2884 - categorical_accuracy: 0.8994 - precision: 0.8750 - recall: 0.9112 - val_loss: 0.3644 - val_categorical_accuracy: 0.8356 - val_precision: 0.8400 - val_recall: 0.8630\n",
            "Epoch 78/100\n",
            "6/6 [==============================] - 0s 9ms/step - loss: 0.2875 - categorical_accuracy: 0.8994 - precision: 0.8750 - recall: 0.9112 - val_loss: 0.3657 - val_categorical_accuracy: 0.8356 - val_precision: 0.8289 - val_recall: 0.8630\n",
            "Epoch 79/100\n",
            "6/6 [==============================] - 0s 8ms/step - loss: 0.2868 - categorical_accuracy: 0.8994 - precision: 0.8800 - recall: 0.9112 - val_loss: 0.3685 - val_categorical_accuracy: 0.8356 - val_precision: 0.8289 - val_recall: 0.8630\n",
            "Epoch 80/100\n",
            "6/6 [==============================] - 0s 11ms/step - loss: 0.2851 - categorical_accuracy: 0.9053 - precision: 0.8800 - recall: 0.9112 - val_loss: 0.3658 - val_categorical_accuracy: 0.8356 - val_precision: 0.8267 - val_recall: 0.8493\n",
            "Epoch 81/100\n",
            "6/6 [==============================] - 0s 12ms/step - loss: 0.2847 - categorical_accuracy: 0.8994 - precision: 0.8800 - recall: 0.9112 - val_loss: 0.3643 - val_categorical_accuracy: 0.8493 - val_precision: 0.8267 - val_recall: 0.8493\n",
            "Epoch 82/100\n",
            "6/6 [==============================] - 0s 11ms/step - loss: 0.2838 - categorical_accuracy: 0.8935 - precision: 0.8851 - recall: 0.9112 - val_loss: 0.3641 - val_categorical_accuracy: 0.8493 - val_precision: 0.8267 - val_recall: 0.8493\n",
            "Epoch 83/100\n",
            "6/6 [==============================] - 0s 9ms/step - loss: 0.2826 - categorical_accuracy: 0.9053 - precision: 0.8851 - recall: 0.9112 - val_loss: 0.3711 - val_categorical_accuracy: 0.8219 - val_precision: 0.8289 - val_recall: 0.8630\n",
            "Epoch 84/100\n",
            "6/6 [==============================] - 0s 11ms/step - loss: 0.2807 - categorical_accuracy: 0.9053 - precision: 0.8895 - recall: 0.9053 - val_loss: 0.3688 - val_categorical_accuracy: 0.8356 - val_precision: 0.8289 - val_recall: 0.8630\n",
            "Epoch 85/100\n",
            "6/6 [==============================] - 0s 11ms/step - loss: 0.2792 - categorical_accuracy: 0.8935 - precision: 0.8851 - recall: 0.9112 - val_loss: 0.3606 - val_categorical_accuracy: 0.8493 - val_precision: 0.8378 - val_recall: 0.8493\n",
            "Epoch 86/100\n",
            "6/6 [==============================] - 0s 9ms/step - loss: 0.2794 - categorical_accuracy: 0.8935 - precision: 0.8902 - recall: 0.9112 - val_loss: 0.3659 - val_categorical_accuracy: 0.8493 - val_precision: 0.8267 - val_recall: 0.8493\n",
            "Epoch 87/100\n",
            "6/6 [==============================] - 0s 12ms/step - loss: 0.2775 - categorical_accuracy: 0.8994 - precision: 0.8902 - recall: 0.9112 - val_loss: 0.3652 - val_categorical_accuracy: 0.8493 - val_precision: 0.8378 - val_recall: 0.8493\n",
            "Epoch 88/100\n",
            "6/6 [==============================] - 0s 11ms/step - loss: 0.2781 - categorical_accuracy: 0.8994 - precision: 0.8851 - recall: 0.9112 - val_loss: 0.3639 - val_categorical_accuracy: 0.8493 - val_precision: 0.8378 - val_recall: 0.8493\n",
            "Epoch 89/100\n",
            "6/6 [==============================] - 0s 9ms/step - loss: 0.2750 - categorical_accuracy: 0.9053 - precision: 0.8895 - recall: 0.9053 - val_loss: 0.3734 - val_categorical_accuracy: 0.8219 - val_precision: 0.8289 - val_recall: 0.8630\n",
            "Epoch 90/100\n",
            "6/6 [==============================] - 0s 9ms/step - loss: 0.2743 - categorical_accuracy: 0.9053 - precision: 0.8908 - recall: 0.9172 - val_loss: 0.3792 - val_categorical_accuracy: 0.8219 - val_precision: 0.8267 - val_recall: 0.8493\n",
            "Epoch 91/100\n",
            "6/6 [==============================] - 0s 9ms/step - loss: 0.2729 - categorical_accuracy: 0.9053 - precision: 0.9059 - recall: 0.9112 - val_loss: 0.3734 - val_categorical_accuracy: 0.8219 - val_precision: 0.8289 - val_recall: 0.8630\n",
            "Epoch 92/100\n",
            "6/6 [==============================] - 0s 11ms/step - loss: 0.2712 - categorical_accuracy: 0.9053 - precision: 0.9006 - recall: 0.9112 - val_loss: 0.3664 - val_categorical_accuracy: 0.8493 - val_precision: 0.8267 - val_recall: 0.8493\n",
            "Epoch 93/100\n",
            "6/6 [==============================] - 0s 9ms/step - loss: 0.2703 - categorical_accuracy: 0.9053 - precision: 0.8902 - recall: 0.9112 - val_loss: 0.3656 - val_categorical_accuracy: 0.8493 - val_precision: 0.8267 - val_recall: 0.8493\n",
            "Epoch 94/100\n",
            "6/6 [==============================] - 0s 11ms/step - loss: 0.2693 - categorical_accuracy: 0.9053 - precision: 0.8953 - recall: 0.9112 - val_loss: 0.3646 - val_categorical_accuracy: 0.8493 - val_precision: 0.8267 - val_recall: 0.8493\n",
            "Epoch 95/100\n",
            "6/6 [==============================] - 0s 12ms/step - loss: 0.2681 - categorical_accuracy: 0.9053 - precision: 0.8902 - recall: 0.9112 - val_loss: 0.3685 - val_categorical_accuracy: 0.8219 - val_precision: 0.8243 - val_recall: 0.8356\n",
            "Epoch 96/100\n",
            "6/6 [==============================] - 0s 11ms/step - loss: 0.2672 - categorical_accuracy: 0.9053 - precision: 0.8947 - recall: 0.9053 - val_loss: 0.3673 - val_categorical_accuracy: 0.8219 - val_precision: 0.8267 - val_recall: 0.8493\n",
            "Epoch 97/100\n",
            "6/6 [==============================] - 0s 8ms/step - loss: 0.2657 - categorical_accuracy: 0.9053 - precision: 0.9000 - recall: 0.9053 - val_loss: 0.3681 - val_categorical_accuracy: 0.8219 - val_precision: 0.8267 - val_recall: 0.8493\n",
            "Epoch 98/100\n",
            "6/6 [==============================] - 0s 9ms/step - loss: 0.2647 - categorical_accuracy: 0.9112 - precision: 0.9059 - recall: 0.9112 - val_loss: 0.3615 - val_categorical_accuracy: 0.8356 - val_precision: 0.8267 - val_recall: 0.8493\n",
            "Epoch 99/100\n",
            "6/6 [==============================] - 0s 9ms/step - loss: 0.2641 - categorical_accuracy: 0.9172 - precision: 0.8953 - recall: 0.9112 - val_loss: 0.3585 - val_categorical_accuracy: 0.8356 - val_precision: 0.8267 - val_recall: 0.8493\n",
            "Epoch 100/100\n",
            "6/6 [==============================] - 0s 12ms/step - loss: 0.2633 - categorical_accuracy: 0.9172 - precision: 0.8895 - recall: 0.9053 - val_loss: 0.3556 - val_categorical_accuracy: 0.8356 - val_precision: 0.8158 - val_recall: 0.8493\n"
          ]
        }
      ]
    },
    {
      "cell_type": "markdown",
      "source": [
        "Por fim, avalia-se o modelo com os dados de teste. Foram obtidos bons valores de precisão, acurácia e recall.\n",
        "\n",
        "* Boa acurácia dá uma medida geral de que o modelo classifica bem os pacientes, rotulando os doentes como doentes e os sadios como sadios.\n",
        "* Boa precisão indica que o modelo está tendo poucos falsos positivos, isto é, chamando de doente quem é sadio\n",
        "* Boa acurácia indica que o modelo está tendo poucos falsos negativos, isto é, chamando de sadio quem é doente."
      ],
      "metadata": {
        "id": "QxLo47wo6AXh"
      }
    },
    {
      "cell_type": "code",
      "source": [
        "metricas = modelo.evaluate(X_teste,y_teste)\n",
        "print('A acurácia do modelo no teste foi de ', round(metricas[1], 4))\n",
        "print('A precisão do modelo no teste foi de ', round(metricas[2], 4))\n",
        "print('A sensibilidade do modelo no teste foi de ', round(metricas[3], 4))"
      ],
      "metadata": {
        "colab": {
          "base_uri": "https://localhost:8080/"
        },
        "id": "05MX1QBCu8T2",
        "outputId": "89be21fd-f8e8-4c18-a3c0-ec1ff4f80471"
      },
      "execution_count": 33,
      "outputs": [
        {
          "output_type": "stream",
          "name": "stdout",
          "text": [
            "2/2 [==============================] - 0s 9ms/step - loss: 0.3373 - categorical_accuracy: 0.8197 - precision: 0.8226 - recall: 0.8361\n",
            "A acurácia do modelo no teste foi de  0.8197\n",
            "A precisão do modelo no teste foi de  0.8226\n",
            "A sensibilidade do modelo no teste foi de  0.8361\n"
          ]
        }
      ]
    },
    {
      "cell_type": "markdown",
      "source": [
        "Neste gráfico pode-se constatar como as métricas foram evoluindo com o passar das épocas de treino."
      ],
      "metadata": {
        "id": "kA3MM5tO6LIE"
      }
    },
    {
      "cell_type": "code",
      "source": [
        "pd.DataFrame(historico.history).plot()\n",
        "plt.grid()\n",
        "plt.show()"
      ],
      "metadata": {
        "colab": {
          "base_uri": "https://localhost:8080/",
          "height": 430
        },
        "id": "umYDlnPlvQIp",
        "outputId": "2cd5be8b-7f7b-4132-e2e6-0ff6bec4fcf4"
      },
      "execution_count": 29,
      "outputs": [
        {
          "output_type": "display_data",
          "data": {
            "text/plain": [
              "<Figure size 640x480 with 1 Axes>"
            ],
            "image/png": "[encoded data removed]"
          },
          "metadata": {}
        }
      ]
    },
    {
      "cell_type": "markdown",
      "source": [
        "# Teste do modelo"
      ],
      "metadata": {
        "id": "gOcCQVMT6Sgo"
      }
    },
    {
      "cell_type": "markdown",
      "source": [
        "Pode-se realizar um teste com um paciente, dados os valores de seus exames. Será necessário informar os valores de entrada incluindo as categorias criadas com dummies e os dados precisam ser normalizados."
      ],
      "metadata": {
        "id": "vxbbBFOt6UGC"
      }
    },
    {
      "cell_type": "code",
      "source": [
        "entrada = np.array([60. , 130. , 210. , 135. ,   2.5,   2.  ,   0. ,   1. ,\n",
        "         0. ,   0. ,   0. ,   1. ,   1. ,   0. ,   0. ,   0. ,   1. ,\n",
        "         0. ,   1. ,   0. ,   1. ,   0. ,   0. ,   0., 1.])\n",
        "entrada = entrada.reshape(1,-1)\n",
        "entrada_escalada = escalador.transform(entrada)"
      ],
      "metadata": {
        "id": "V39Wm7GL23BP",
        "colab": {
          "base_uri": "https://localhost:8080/"
        },
        "outputId": "2628b4a6-82dd-4528-f5e6-d036dab0fce6"
      },
      "execution_count": 30,
      "outputs": [
        {
          "output_type": "stream",
          "name": "stderr",
          "text": [
            "/usr/local/lib/python3.10/dist-packages/sklearn/base.py:439: UserWarning: X does not have valid feature names, but MinMaxScaler was fitted with feature names\n",
            "  warnings.warn(\n"
          ]
        }
      ]
    },
    {
      "cell_type": "markdown",
      "source": [
        "Por fim, realiza-se a predição com um paciente"
      ],
      "metadata": {
        "id": "eOVA44n-6kSn"
      }
    },
    {
      "cell_type": "code",
      "source": [
        "predicao = modelo.predict([entrada_escalada])\n",
        "if predicao[0][0] > 0.5:\n",
        "  print(\"Presença de doença cardíaca pouco provável\")\n",
        "else:\n",
        "  print(\"Presença de doença cardíaca muito provável\")"
      ],
      "metadata": {
        "id": "X6RT1gjjdlR9",
        "colab": {
          "base_uri": "https://localhost:8080/"
        },
        "outputId": "b44f3ce6-2f86-4b9f-c435-ed2f8453de9f"
      },
      "execution_count": 31,
      "outputs": [
        {
          "output_type": "stream",
          "name": "stdout",
          "text": [
            "1/1 [==============================] - 0s 88ms/step\n",
            "Presença de doença cardíaca muito provável\n"
          ]
        }
      ]
    },
    {
      "cell_type": "code",
      "source": [
        "predicao"
      ],
      "metadata": {
        "colab": {
          "base_uri": "https://localhost:8080/"
        },
        "id": "6qVP2ZkgA8XX",
        "outputId": "ca3bfc9c-47da-43bf-cdfa-6a1fd83edb65"
      },
      "execution_count": 32,
      "outputs": [
        {
          "output_type": "execute_result",
          "data": {
            "text/plain": [
              "array([[0.07483438, 0.9155462 ]], dtype=float32)"
            ]
          },
          "metadata": {},
          "execution_count": 32
        }
      ]
    }
  ]
}